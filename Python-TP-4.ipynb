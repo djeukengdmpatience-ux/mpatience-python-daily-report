{
 "cells": [
  {
   "cell_type": "markdown",
   "id": "d68c1dee",
   "metadata": {
    "id": "d68c1dee"
   },
   "source": [
    "# Practical_4: Flow control"
   ]
  },
  {
   "cell_type": "markdown",
   "id": "083ccf47-128e-40dd-b50e-8c6264028085",
   "metadata": {
    "id": "bea983a3"
   },
   "source": [
    "---\n",
    "\n",
    "### Exercise 1:\n",
    "Write a Python program that checks if a number is positive or negative.\n",
    "\n",
    "```python\n",
    "# Exercise 1\n",
    "```\n",
    "\n",
    "-"
   ]
  },
  {
   "cell_type": "code",
   "execution_count": 3,
   "id": "3aebd518-3522-4e75-8eb6-d2937e58beb8",
   "metadata": {
    "id": "bea983a3"
   },
   "outputs": [
    {
     "name": "stdin",
     "output_type": "stream",
     "text": [
      "enter a number different to 0 -4\n"
     ]
    },
    {
     "name": "stdout",
     "output_type": "stream",
     "text": [
      "the number is negative\n"
     ]
    }
   ],
   "source": [
    "n=int(input(\"enter a number different to 0\"))\n",
    "if n>0:\n",
    "    print(\"the number is positive\")\n",
    "else :\n",
    "    print(\"the number is negative\")\n",
    "\n"
   ]
  },
  {
   "cell_type": "markdown",
   "id": "34cfa38d-882a-4b39-8a6c-a4c7c825948c",
   "metadata": {
    "id": "bea983a3"
   },
   "source": [
    "--\n",
    "\n",
    "### Exercise 2:\n",
    "Write a Python function that checks if a string starts with a vowel.\n",
    "\n",
    "```python\n",
    "# Exercise 2\n",
    "```\n",
    "\n",
    "-"
   ]
  },
  {
   "cell_type": "code",
   "execution_count": 5,
   "id": "d3e3c206-5311-4b7e-bf20-9237cf9afc37",
   "metadata": {
    "id": "bea983a3"
   },
   "outputs": [],
   "source": [
    "def check_string(string):\n",
    "    vowels= 'aeiouy'\n",
    "    if string[0]  in vowels:\n",
    "        print(\"the word starts with a vowel\")\n",
    "    else:\n",
    "        print(\"the word doesn't start with a vowel\")\n",
    "        "
   ]
  },
  {
   "cell_type": "code",
   "execution_count": 6,
   "id": "7d275071-8252-426e-b7fe-1bac2a77b61c",
   "metadata": {},
   "outputs": [
    {
     "name": "stdin",
     "output_type": "stream",
     "text": [
      "enter a word mum\n"
     ]
    },
    {
     "name": "stdout",
     "output_type": "stream",
     "text": [
      "the word doesn't start with a vowel\n",
      "None\n"
     ]
    }
   ],
   "source": [
    "string=input(\"enter a word\")\n",
    "result=check_string(string)\n",
    "print(result)"
   ]
  },
  {
   "cell_type": "markdown",
   "id": "389828c0-96e8-4e56-8e01-4c2f25d857ea",
   "metadata": {
    "id": "bea983a3"
   },
   "source": [
    "--\n",
    "\n",
    "### Exercise 3:\n",
    "Write a Python program that takes a list of integers and prints \"Even\" for each even number and \"Odd\" for each odd number.\n",
    "\n",
    "```python\n",
    "# Exercise 3\n",
    "```\n",
    "\n",
    "-"
   ]
  },
  {
   "cell_type": "code",
   "execution_count": 32,
   "id": "57a135ca-0d26-4180-891a-65602d0bbf53",
   "metadata": {},
   "outputs": [
    {
     "name": "stdin",
     "output_type": "stream",
     "text": [
      "enter a list of integers 34\n"
     ]
    },
    {
     "name": "stdout",
     "output_type": "stream",
     "text": [
      "is an even number: 34\n"
     ]
    }
   ],
   "source": [
    "list=[int(input(\"enter a list of integers\"))] \n",
    "for i in list :\n",
    "    if i%2==0:\n",
    "        \n",
    "        print(\"is an even number:\" ,i)\n",
    "    else :\n",
    "        print(\"is an odd number:\", i)"
   ]
  },
  {
   "cell_type": "markdown",
   "id": "5b7b679d-57dc-43e8-bc96-0f92f586602a",
   "metadata": {
    "id": "bea983a3"
   },
   "source": []
  },
  {
   "cell_type": "markdown",
   "id": "5ab6261c-cfee-4112-a37b-b6b4aaa6cbbe",
   "metadata": {
    "id": "bea983a3"
   },
   "source": [
    "--\n",
    "\n",
    "### Exercise 4:\n",
    "Write a Python program that checks if a given year is a leap year.\n",
    "\n",
    "```python\n",
    "# Exercise 4\n",
    "```\n",
    "\n",
    "-"
   ]
  },
  {
   "cell_type": "code",
   "execution_count": 17,
   "id": "59a3251f-6ff6-4309-b0e5-41ae96e00e2b",
   "metadata": {
    "id": "bea983a3"
   },
   "outputs": [
    {
     "name": "stdout",
     "output_type": "stream",
     "text": [
      "it isn't a leap year\n"
     ]
    }
   ],
   "source": [
    "n=2025\n",
    "if n%4==0:\n",
    "    print(\"it is a leap year\")\n",
    "else:\n",
    "    print( \"it isn't a leap year\")"
   ]
  },
  {
   "cell_type": "markdown",
   "id": "6b2316ca-d342-4ab0-92e0-7d5564029b8b",
   "metadata": {
    "id": "bea983a3"
   },
   "source": [
    "--\n",
    "\n",
    "### Exercise 5:\n",
    "Write a Python function that checks if a number is divisible by both 3 and 5.\n",
    "\n",
    "```python\n",
    "# Exercise 5\n",
    "```\n",
    "\n",
    "--"
   ]
  },
  {
   "cell_type": "code",
   "execution_count": 18,
   "id": "cbd717cf-78a1-462b-ae9a-985db8f891d4",
   "metadata": {
    "id": "bea983a3"
   },
   "outputs": [
    {
     "name": "stdout",
     "output_type": "stream",
     "text": [
      "the number isn't divisible by both 3 and 5\n"
     ]
    }
   ],
   "source": [
    "n=34\n",
    "if n%3==0 and n%5==0:\n",
    "    print(\" the number is divisible by both 3 and 5\")\n",
    "else :\n",
    "    print(\"the number isn't divisible by both 3 and 5\")"
   ]
  },
  {
   "cell_type": "markdown",
   "id": "05f6209d-195f-46c6-b0e4-f76467836156",
   "metadata": {
    "id": "bea983a3"
   },
   "source": [
    "-\n",
    "\n",
    "### Exercise 6:\n",
    "Write a Python program that prints \"Hot\" if the temperature is above 30, \"Warm\" if it is between 15 and 30, and \"Cold\" if it is below 15.\n",
    "\n",
    "```python\n",
    "# Exercise 6\n",
    "```\n",
    "\n",
    "--"
   ]
  },
  {
   "cell_type": "code",
   "execution_count": 22,
   "id": "585422da-dbd2-41de-b006-cdfad8e59251",
   "metadata": {
    "id": "bea983a3"
   },
   "outputs": [
    {
     "name": "stdin",
     "output_type": "stream",
     "text": [
      "enter the temperature 23.4\n"
     ]
    },
    {
     "name": "stdout",
     "output_type": "stream",
     "text": [
      "warm\n"
     ]
    }
   ],
   "source": [
    "temperature=input(\"enter the temperature\")\n",
    "if str(temperature)>str(30):\n",
    "    print(\"hot\")\n",
    "elif str(temperature)<str(15):\n",
    "    print(\"cold\")\n",
    "else :\n",
    "    print(\"warm\")"
   ]
  },
  {
   "cell_type": "markdown",
   "id": "d73441eb-1171-4691-937f-e24db778403c",
   "metadata": {
    "id": "bea983a3"
   },
   "source": [
    "-\n",
    "\n",
    "### Exercise 7:\n",
    "Write a Python program that checks if a string contains the letter 'a'.\n",
    "\n",
    "```python\n",
    "# Exercise 7\n",
    "```\n",
    "\n",
    "-"
   ]
  },
  {
   "cell_type": "code",
   "execution_count": null,
   "id": "d093c773-493e-4f4f-8b50-465669921270",
   "metadata": {
    "id": "bea983a3"
   },
   "outputs": [],
   "source": [
    "\r\n",
    "text = input(\"Enter a string: \")\r\n",
    "\r\n",
    "if contains_a(text):\r\n",
    "    print(\"The string contains the letter 'a'.\")\r\n",
    "else:\r\n",
    "    print(\"The string does not contain the letter 'a'.\")\r\n"
   ]
  },
  {
   "cell_type": "markdown",
   "id": "3fab916e-90d6-4a45-acb0-b590ade1e3d2",
   "metadata": {
    "id": "bea983a3"
   },
   "source": [
    "\n",
    "\n",
    "### Exercise 8:\n",
    "Write a Python function that checks if two numbers are equal, or which one is larger.\n",
    "\n",
    "```python\n",
    "# Exercise 8\n",
    "`"
   ]
  },
  {
   "cell_type": "code",
   "execution_count": 5,
   "id": "45b1e9e9-f009-4c57-9247-2831fcac2dc1",
   "metadata": {
    "id": "bea983a3"
   },
   "outputs": [
    {
     "ename": "SyntaxError",
     "evalue": "expected ':' (1985776273.py, line 4)",
     "output_type": "error",
     "traceback": [
      "\u001b[1;36m  Cell \u001b[1;32mIn[5], line 4\u001b[1;36m\u001b[0m\n\u001b[1;33m    else x > y :\u001b[0m\n\u001b[1;37m         ^\u001b[0m\n\u001b[1;31mSyntaxError\u001b[0m\u001b[1;31m:\u001b[0m expected ':'\n"
     ]
    }
   ],
   "source": [
    "def compa(x,y):\n",
    "    if x==y:\n",
    "        print(\"the two numbers are equal\")\n",
    "    else x > y :\n",
    "        print(x \" is larger than \" y):\n"
   ]
  },
  {
   "cell_type": "code",
   "execution_count": 4,
   "id": "72df68d2-b9d1-426f-a8ce-3b75036a092e",
   "metadata": {},
   "outputs": [
    {
     "name": "stdin",
     "output_type": "stream",
     "text": [
      "entrer deux entiers 12\n"
     ]
    },
    {
     "ename": "TypeError",
     "evalue": "cannot unpack non-iterable int object",
     "output_type": "error",
     "traceback": [
      "\u001b[1;31m---------------------------------------------------------------------------\u001b[0m",
      "\u001b[1;31mTypeError\u001b[0m                                 Traceback (most recent call last)",
      "Cell \u001b[1;32mIn[4], line 1\u001b[0m\n\u001b[1;32m----> 1\u001b[0m (x,y)\u001b[38;5;241m=\u001b[39m \u001b[38;5;28mint\u001b[39m(\u001b[38;5;28minput\u001b[39m(\u001b[38;5;124m\"\u001b[39m\u001b[38;5;124mentrer deux entiers\u001b[39m\u001b[38;5;124m\"\u001b[39m))\n\u001b[0;32m      2\u001b[0m compa(x,Y)\n",
      "\u001b[1;31mTypeError\u001b[0m: cannot unpack non-iterable int object"
     ]
    }
   ],
   "source": [
    "(x,y)= int(input(\"entrer deux entiers\"))\n",
    "compa(x,Y)\n",
    "           "
   ]
  },
  {
   "cell_type": "code",
   "execution_count": null,
   "id": "e96c568d-dd1e-428e-bf75-923b4e97c845",
   "metadata": {
    "id": "bea983a3",
    "jp-MarkdownHeadingCollapsed": true
   },
   "outputs": [],
   "source": [
    "--\n",
    "\n",
    "### Exercise 9:\n",
    "Write a Python program that checks if a list is empty.\n",
    "\n",
    "```python\n",
    "# Exercise 9\n",
    "```\n",
    "\n"
   ]
  },
  {
   "cell_type": "code",
   "execution_count": null,
   "id": "879b1682-7d78-489b-89be-9df1193abb85",
   "metadata": {},
   "outputs": [],
   "source": []
  },
  {
   "cell_type": "markdown",
   "id": "cdb5117a-7152-4eb9-a942-b0ed912b3562",
   "metadata": {
    "id": "bea983a3"
   },
   "source": [
    "list1=[12,34,56]\n",
    "for i in range(2):\n",
    "if list[i]=0 :\n",
    "print('la li"
   ]
  },
  {
   "cell_type": "markdown",
   "id": "9590b398-e943-4132-9ddb-4c04956ae2df",
   "metadata": {
    "id": "bea983a3"
   },
   "source": [
    "-\n",
    "\n",
    "### Exercise 10:\n",
    "Write a Python function that takes two strings and checks if they are anagrams.\n",
    "\n",
    "```python\n",
    "# Exercise 10\n",
    "```\n",
    "\n",
    "--"
   ]
  },
  {
   "cell_type": "code",
   "execution_count": null,
   "id": "0fae91d7-a006-457b-8ec5-97b335a8a309",
   "metadata": {},
   "outputs": [],
   "source": [
    "def are_anagrams(str1, str2):\n",
    "    \n",
    "    \n",
    "    str1 = str1.replace(\" \", \"\").lower()\n",
    "    str2 = str2.replace(\" \", \"\").lower()\n",
    "\n",
    "    \n",
    "    return sorted(str1) == sorted(str2)\n"
   ]
  },
  {
   "cell_type": "markdown",
   "id": "576de7ee-0174-44d4-9dad-af006f253efc",
   "metadata": {
    "id": "bea983a3"
   },
   "source": [
    "-\n",
    "\n",
    "### Exercise 11:\n",
    "Write a Python program that checks if a number is prime.\n",
    "\n",
    "```python\n",
    "# Exercise 11\n",
    "```\n",
    "\n",
    "-"
   ]
  },
  {
   "cell_type": "markdown",
   "id": "14737b96-fbdc-44e7-9afd-fc6bba93830e",
   "metadata": {
    "id": "bea983a3"
   },
   "source": [
    "def is_prime(n):\r\n",
    "   \"\r\n",
    "  .\r\n",
    "\r",
    " not prime\r\n",
    "    if n < 2:\r\n",
    "        returnnd 3 are prime\r\n",
    "    if n in (2, 3):\r\n",
    "    iples of 3 quickly\r\n",
    "    if n % 2 == 0 or n % 3 == 0:\r\n",
    "  factors up to sqrt(n)\r\n",
    "    i = 5\r\n",
    "    while i * i <= n:\r\n",
    "        if n % i == 0 or n % (i + 2) == 0:\r\n",
    "            ret numbers and multiples of 3\r\n",
    "\r\n",
    "    return True\r\n",
    "\r\n",
    "\r\n",
    "# Example usage:\r\n",
    "num = int(input(\"Enter a number: \"))\r\n",
    "if is_prime(num):\r\n",
    "    print(f\"{num} is a prime number.\")\r\n",
    "else:\r\n",
    "    print(f\"{num} is not a prime number.\")\r\n"
   ]
  },
  {
   "cell_type": "markdown",
   "id": "51989229-efda-4a08-99b8-4d7bcf3d04eb",
   "metadata": {
    "id": "bea983a3"
   },
   "source": [
    "--\n",
    "\n",
    "### Exercise 12:\n",
    "Write a Python program that checks if a list of numbers is sorted in ascending order.\n",
    "\n",
    "```python\n",
    "# Exercise 12\n",
    "```\n",
    "\n",
    "--"
   ]
  },
  {
   "cell_type": "code",
   "execution_count": null,
   "id": "a5023363-fafa-4b4d-9b6c-69b3b8f1236a",
   "metadata": {
    "id": "bea983a3"
   },
   "outputs": [],
   "source": [
    "def is_sorted_ascending(numbers):d\r\n",
    "    if len(numbers) <= 1:\r\n",
    "        return True\r\n",
    "    \r\n",
    "    for i in range(len(numbers) - 1):\r\n",
    "        if numbers[i] > numbers[i + 1]:\r\n",
    "            return False\r\n",
    "    retmple usage:\r\n",
    "nums = [1, 2, 3, 4, 5]\r\n",
    "print(\"List:\", nums)\r\n",
    "print(\"Is sorted ascending?\", is_sorted_ascending(nums))\r\n",
    "\r\n",
    "nums2 = [3, 1, 4, 2]\r\n",
    "print(\"\\nList:\", nums2)\r\n",
    "print(\"Is sorted ascending?\", is_sorted_ascending(nums2))\r\n"
   ]
  },
  {
   "cell_type": "markdown",
   "id": "87d331e1-81c2-4bde-8277-87f9e37bf08e",
   "metadata": {
    "id": "bea983a3"
   },
   "source": [
    "-\n",
    "\n",
    "### Exercise 13:\n",
    "Write a Python function that takes a character and checks if it is a digit.\n",
    "\n",
    "```python\n",
    "# Exercise 13\n",
    "```\n",
    "\n",
    "-"
   ]
  },
  {
   "cell_type": "markdown",
   "id": "c1e9976b-3b0d-4dc5-a4e6-b9dc4c247893",
   "metadata": {
    "id": "bea983a3"
   },
   "source": []
  },
  {
   "cell_type": "markdown",
   "id": "58c93a2f-04c2-479c-9cc8-45b5b91efe60",
   "metadata": {
    "id": "bea983a3"
   },
   "source": [
    "### Exercise 14:\n",
    "Write a Python function that checks if a string contains only uppercase letters.\n",
    "\n",
    "```python\n",
    "# Exercise 14\n",
    "```\n",
    "\n",
    "-"
   ]
  },
  {
   "cell_type": "markdown",
   "id": "970fb66b-3062-4234-943a-61f261f1686c",
   "metadata": {
    "id": "bea983a3"
   },
   "source": []
  },
  {
   "cell_type": "markdown",
   "id": "defec56d-98cb-4ba4-b921-a1a9fc75faf8",
   "metadata": {
    "id": "bea983a3"
   },
   "source": [
    "### Exercise 15:\n",
    "Write a Python program that checks if a number is a multiple of 10.\n",
    "\n",
    "```python\n",
    "# Exercise 15\n",
    "```\n",
    "\n",
    "-"
   ]
  },
  {
   "cell_type": "markdown",
   "id": "bbb44987-a818-4fca-ad77-809d16db1f37",
   "metadata": {
    "id": "bea983a3"
   },
   "source": []
  },
  {
   "cell_type": "markdown",
   "id": "99d48fa5-c82c-42b8-aa98-68d2d07284a5",
   "metadata": {
    "id": "bea983a3"
   },
   "source": [
    "### Exercise 16:\n",
    "Write a Python function that checks if a list contains any duplicates.\n",
    "\n",
    "```python\n",
    "# Exercise 16\n",
    "```\n",
    "\n"
   ]
  },
  {
   "cell_type": "markdown",
   "id": "5f968fdf-617a-4021-b1a9-1f41c8e56f1f",
   "metadata": {
    "id": "bea983a3"
   },
   "source": []
  },
  {
   "cell_type": "markdown",
   "id": "74f22d57-87fa-4eb5-8361-edfed9892266",
   "metadata": {
    "id": "bea983a3"
   },
   "source": [
    "-\n",
    "\n",
    "### Exercise 17:\n",
    "Write a Python program that prints \"Teenager\" if the age is between 13 and 19, otherwise it prints \"Not a teenager.\"\n",
    "\n",
    "```python\n",
    "# Exercise 17\n",
    "```\n",
    "\n",
    "-"
   ]
  },
  {
   "cell_type": "markdown",
   "id": "27a67809-a8d6-4522-a68d-8f4a310e4913",
   "metadata": {
    "id": "bea983a3"
   },
   "source": []
  },
  {
   "cell_type": "markdown",
   "id": "ed4ff750-68a1-450e-943b-2a4d4072cefa",
   "metadata": {
    "id": "bea983a3"
   },
   "source": [
    "--\n",
    "\n",
    "### Exercise 18:\n",
    "Write a Python function that checks if a list contains an element greater than 100.\n",
    "\n",
    "```python\n",
    "# Exercise 18\n",
    "```\n",
    "\n",
    "--"
   ]
  },
  {
   "cell_type": "markdown",
   "id": "c4fd2d03-4e75-464b-8981-231a5ec60e77",
   "metadata": {
    "id": "bea983a3"
   },
   "source": []
  },
  {
   "cell_type": "markdown",
   "id": "1e705ca4-86d8-4c0e-b1a1-1593c3c50850",
   "metadata": {
    "id": "bea983a3"
   },
   "source": [
    "-\n",
    "\n",
    "### Exercise 19:\n",
    "Write a Python program that checks if a number is even or odd.\n",
    "\n",
    "```python\n",
    "# Exercise 19\n",
    "```\n",
    "\n",
    "---\n",
    "\n",
    "### Exercise 20:\n",
    "Write a Python function that checks if a string ends with a punctuation mark.\n",
    "\n",
    "```python\n",
    "# Exercise 20\n",
    "```\n",
    "\n",
    "---\n",
    "\n",
    "### Exercise 21:\n",
    "Write a Python program that prints \"Yes\" if the number is between 1 and 100, otherwise it prints \"No.\"\n",
    "\n",
    "```python\n",
    "# Exercise 21\n",
    "```\n",
    "\n",
    "---\n",
    "\n",
    "### Exercise 22:\n",
    "Write a Python program that checks if two strings have the same length.\n",
    "\n",
    "```python\n",
    "# Exercise 22\n",
    "```\n",
    "\n",
    "---\n",
    "\n",
    "### Exercise 23:\n",
    "Write a Python function that checks if a number is greater than its reverse.\n",
    "\n",
    "```python\n",
    "# Exercise 23\n",
    "```\n",
    "\n",
    "---\n",
    "\n",
    "### Exercise 24:\n",
    "Write a Python program that checks if a password contains both letters and numbers.\n",
    "\n",
    "```python\n",
    "# Exercise 24\n",
    "```\n",
    "\n",
    "---\n",
    "\n",
    "### Exercise 25:\n",
    "Write a Python program that checks if a number is between two given numbers.\n",
    "\n",
    "```python\n",
    "# Exercise 25\n",
    "```\n",
    "\n",
    "---\n",
    "\n",
    "### Exercise 26:\n",
    "Write a Python function that checks if all characters in a string are unique.\n",
    "\n",
    "```python\n",
    "# Exercise 26\n",
    "```\n",
    "\n",
    "---\n",
    "\n",
    "### Exercise 27:\n",
    "Write a Python program that checks if a number is a perfect square.\n",
    "\n",
    "```python\n",
    "# Exercise 27\n",
    "```\n",
    "\n",
    "---\n",
    "\n",
    "### Exercise 28:\n",
    "Write a Python function that checks if a word is a palindrome.\n",
    "\n",
    "```python\n",
    "# Exercise 28\n",
    "```\n",
    "\n",
    "---\n",
    "\n",
    "### Exercise 29:\n",
    "Write a Python program that prints \"Fizz\" if a number is divisible by 3, \"Buzz\" if it is divisible by 5, and \"FizzBuzz\" if divisible by both.\n",
    "\n",
    "```python\n",
    "# Exercise 29\n",
    "```\n",
    "\n",
    "---\n",
    "\n",
    "### Exercise 30:\n",
    "Write a Python program that checks if the sum of the digits of a number is even.\n",
    "\n",
    "```python\n",
    "# Exercise 30\n",
    "```\n",
    "\n",
    "---\n",
    "\n",
    "### Exercise 31:\n",
    "Write a Python program that checks if a string is a valid email address.\n",
    "\n",
    "```python\n",
    "# Exercise 31\n",
    "```\n",
    "\n",
    "---\n",
    "\n",
    "### Exercise 32:\n",
    "Write a Python function that checks if a number is within 10 of 100 or 200.\n",
    "\n",
    "```python\n",
    "# Exercise 32\n",
    "```\n",
    "\n",
    "---\n",
    "\n",
    "### Exercise 33:\n",
    "Write a Python program that checks if a given string is a valid URL.\n",
    "\n",
    "```python\n",
    "# Exercise 33\n",
    "```\n",
    "\n",
    "---\n",
    "\n",
    "### Exercise 34:\n",
    "Write a Python program that checks if a list contains all even numbers.\n",
    "\n",
    "```python\n",
    "# Exercise 34\n",
    "```\n",
    "\n",
    "---\n",
    "\n",
    "### Exercise 35:\n",
    "Write a Python program that checks if a word is longer than a given length.\n",
    "\n",
    "```python\n",
    "# Exercise 35\n",
    "```\n",
    "\n",
    "---\n",
    "\n",
    "### Exercise 36:\n",
    "Write a Python program that checks if a list contains only positive numbers.\n",
    "\n",
    "```python\n",
    "# Exercise 36\n",
    "```\n",
    "\n",
    "---\n",
    "\n",
    "### Exercise 37:\n",
    "Write a Python function that checks if a year is a century year (i.e., divisible by 100).\n",
    "\n",
    "```python\n",
    "# Exercise 37\n",
    "```\n",
    "\n",
    "---\n",
    "\n",
    "### Exercise 38:\n",
    "Write a Python program that checks if the sum of a list of numbers is greater than 100.\n",
    "\n",
    "```python\n",
    "# Exercise 38\n",
    "```\n",
    "\n",
    "---\n",
    "\n",
    "### Exercise 39:\n",
    "Write a Python function that checks if a given word is a substring of another string.\n",
    "\n",
    "```python\n",
    "# Exercise 39\n",
    "```\n",
    "\n",
    "---\n",
    "\n",
    "### Exercise 40:\n",
    "Write a Python program that checks if a number is a power of 2.\n",
    "\n",
    "```python\n",
    "# Exercise 40\n",
    "```\n",
    "\n",
    "---\n",
    "\n",
    "### Exercise 41:\n",
    "Write a Python function that checks if a string contains no spaces.\n",
    "\n",
    "```python\n",
    "# Exercise 41\n",
    "```\n",
    "\n",
    "---\n",
    "\n",
    "### Exercise 42:\n",
    "Write a Python program that prints \"Yes\" if a number is divisible by both 2 and 3, otherwise it prints \"No.\"\n",
    "\n",
    "```python\n",
    "# Exercise 42\n",
    "```\n",
    "\n",
    "---\n",
    "\n",
    "### Exercise 43:\n",
    "Write a Python program that checks if a number is a palindrome.\n",
    "\n",
    "```python\n",
    "# Exercise 43\n",
    "```\n",
    "\n",
    "---\n",
    "\n",
    "### Exercise 44:\n",
    "Write a Python function that checks if a string is made of only lowercase letters.\n",
    "\n",
    "```python\n",
    "# Exercise 44\n",
    "```\n",
    "\n",
    "---\n",
    "\n",
    "### Exercise 45:\n",
    "Write a Python program that checks if a string starts with a specific prefix.\n",
    "\n",
    "```python\n",
    "# Exercise 45\n",
    "```\n",
    "\n",
    "---\n",
    "\n",
    "### Exercise 46:\n",
    "Write a Python function that checks if a number is divisible by any number in a given list.\n",
    "\n",
    "```python\n",
    "# Exercise 46\n",
    "```\n",
    "\n",
    "---\n",
    "\n",
    "### Exercise 47:\n",
    "Write a Python program that prints \"Yes\" if a string has more than one occurrence of the same letter.\n",
    "\n",
    "```python\n",
    "# Exercise 47\n",
    "```\n",
    "\n",
    "---\n",
    "\n",
    "### Exercise 48:\n",
    "Write a Python function that checks if a number is prime by dividing it by numbers up to its square root.\n",
    "\n",
    "```python\n",
    "# Exercise 48\n",
    "```\n",
    "\n",
    "---\n",
    "\n",
    "### Exercise 49:\n",
    "Write a Python program that checks if a number is within 1 of a multiple of 10.\n",
    "\n",
    "```python\n",
    "# Exercise 49\n",
    "```\n",
    "\n",
    "---\n",
    "\n",
    "### Exercise 50:\n",
    "Write a Python program that prints \"In range\" if a number is between 10 and 20 (inclusive), otherwise it prints \"Out of range.\"\n",
    "\n",
    "```python\n",
    "# Exercise 50\n",
    "```\n",
    "\n",
    "---"
   ]
  }
 ],
 "metadata": {
  "colab": {
   "provenance": []
  },
  "kernelspec": {
   "display_name": "Python [conda env:base] *",
   "language": "python",
   "name": "conda-base-py"
  },
  "language_info": {
   "codemirror_mode": {
    "name": "ipython",
    "version": 3
   },
   "file_extension": ".py",
   "mimetype": "text/x-python",
   "name": "python",
   "nbconvert_exporter": "python",
   "pygments_lexer": "ipython3",
   "version": "3.12.4"
  }
 },
 "nbformat": 4,
 "nbformat_minor": 5
}
