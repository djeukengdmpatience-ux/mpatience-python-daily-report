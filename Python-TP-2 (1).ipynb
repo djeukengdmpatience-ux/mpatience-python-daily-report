{
 "cells": [
  {
   "cell_type": "markdown",
   "id": "d68c1dee",
   "metadata": {
    "id": "d68c1dee"
   },
   "source": [
    "# Practical_2: String and files"
   ]
  },
  {
   "cell_type": "markdown",
   "id": "919b3412-9d07-40bd-bc24-7e8536c8e8a6",
   "metadata": {
    "id": "bea983a3"
   },
   "source": [
    "### Exercise 1:\n",
    "Create a string variable `text` and assign it the value `\"Python is amazing!\"`.\n",
    "\n",
    "```python\n",
    "# Exercise 1\n",
    "```\n",
    "\n",
    "-"
   ]
  },
  {
   "cell_type": "code",
   "execution_count": 1,
   "id": "97c582cc-5e7f-4c89-8be9-4de90042dafa",
   "metadata": {
    "id": "bea983a3"
   },
   "outputs": [
    {
     "name": "stdout",
     "output_type": "stream",
     "text": [
      "python is amazing\n"
     ]
    }
   ],
   "source": [
    "text= \"python is amazing\"\n",
    "print(text)"
   ]
  },
  {
   "cell_type": "markdown",
   "id": "f449722d-f7b2-42b5-aa7d-fe00e5b3da5a",
   "metadata": {
    "id": "bea983a3"
   },
   "source": [
    "--\n",
    "\n",
    "### Exercise 2:\n",
    "Find the length of the string `\"Hello, World!\"` and store it in a variable `length`.\n",
    "\n",
    "```python\n",
    "# Exercise 2\n",
    "```\n",
    "\n",
    "--"
   ]
  },
  {
   "cell_type": "code",
   "execution_count": 2,
   "id": "5e640219-06ff-499d-944a-5ee27cb03215",
   "metadata": {
    "id": "bea983a3"
   },
   "outputs": [
    {
     "name": "stdout",
     "output_type": "stream",
     "text": [
      "14\n"
     ]
    }
   ],
   "source": [
    "string=\" hello , word \"\n",
    "lenght=len(string)\n",
    "print(lenght)"
   ]
  },
  {
   "cell_type": "markdown",
   "id": "b00e9b98-cf3f-47cc-b4f6-b80bff09ec16",
   "metadata": {
    "id": "bea983a3"
   },
   "source": [
    "-\n",
    "\n",
    "### Exercise 3:\n",
    "Convert the string `\"python programming\"` to uppercase and store it in a variable `upper_text`.\n",
    "\n",
    "```python\n",
    "# Exercise 3\n",
    "```\n",
    "\n",
    "-"
   ]
  },
  {
   "cell_type": "code",
   "execution_count": 4,
   "id": "d1424804-2b68-43c2-b432-fb158c4e2328",
   "metadata": {
    "id": "bea983a3"
   },
   "outputs": [],
   "source": [
    "def convert_to_uppercase(input_string):\n",
    "    uppercase_string=input_string.upper()\n",
    "    return uppercase_string"
   ]
  },
  {
   "cell_type": "code",
   "execution_count": 5,
   "id": "edf5a0ee-6293-4c92-82c0-a7e8bee89d2c",
   "metadata": {},
   "outputs": [
    {
     "name": "stdout",
     "output_type": "stream",
     "text": [
      " PYTHON PROGRAMMING\n"
     ]
    }
   ],
   "source": [
    "input_string=\" python programming\"\n",
    "uppercase_string= input_string.upper()\n",
    "print(uppercase_string)"
   ]
  },
  {
   "cell_type": "code",
   "execution_count": null,
   "id": "dc110df3-f427-4503-afab-22a0c5b3413c",
   "metadata": {
    "id": "bea983a3"
   },
   "outputs": [],
   "source": [
    "--\n",
    "\n",
    "### Exercise 4:\n",
    "Extract the first 5 characters from the string `\"Artificial Intelligence\"`.\n",
    "\n",
    "```python\n",
    "# Exercise 4\n",
    "```\n",
    "\n",
    "-"
   ]
  },
  {
   "cell_type": "code",
   "execution_count": 6,
   "id": "3cfa880b-7ba1-4d4b-9516-883ad4f5013f",
   "metadata": {
    "id": "bea983a3"
   },
   "outputs": [],
   "source": [
    "def first_five_characters(string):\n",
    "     string1= string[:5]\n",
    "     return string1"
   ]
  },
  {
   "cell_type": "code",
   "execution_count": 9,
   "id": "14a53c44-1aa0-46f5-89b1-daa879b1c672",
   "metadata": {},
   "outputs": [
    {
     "name": "stdout",
     "output_type": "stream",
     "text": [
      "artif\n"
     ]
    }
   ],
   "source": [
    "string= \"artificial inteligence\"\n",
    "string1= first_five_characters(string)\n",
    "print(string1)"
   ]
  },
  {
   "cell_type": "markdown",
   "id": "10d083ec-1a6f-44c6-9f02-7fb446b587dd",
   "metadata": {
    "id": "bea983a3"
   },
   "source": [
    "--\n",
    "\n",
    "### Exercise 5:\n",
    "Concatenate the strings `\"Hello\"` and `\"World\"` with a space in between.\n",
    "\n",
    "```python\n",
    "# Exercise 5\n",
    "```\n",
    "\n",
    "-"
   ]
  },
  {
   "cell_type": "code",
   "execution_count": 10,
   "id": "aac30398-3f8e-4f03-9c56-40394e75572e",
   "metadata": {
    "id": "bea983a3"
   },
   "outputs": [],
   "source": [
    "def concatenate( str1,str2):\n",
    "    final_str= str1+\" \"+ str2\n",
    "    return final_str"
   ]
  },
  {
   "cell_type": "code",
   "execution_count": 11,
   "id": "b676786a-2236-44be-8b3c-a09e02be0b58",
   "metadata": {},
   "outputs": [
    {
     "name": "stdout",
     "output_type": "stream",
     "text": [
      "hello world\n"
     ]
    }
   ],
   "source": [
    "str1=\"hello\"\n",
    "str2=\"world\"\n",
    "final=concatenate(str1,str2)\n",
    "print(final)"
   ]
  },
  {
   "cell_type": "markdown",
   "id": "aa4f9f97-59b8-4811-a425-598bf38e2d25",
   "metadata": {
    "id": "bea983a3"
   },
   "source": [
    "--\n",
    "\n",
    "### Exercise 6:\n",
    "Replace the word `\"dog\"` with `\"cat\"` in the string `\"The quick brown dog jumps over the lazy dog.\"`.\n",
    "\n",
    "```python\n",
    "# Exercise 6\n",
    "```\n",
    "\n",
    "-"
   ]
  },
  {
   "cell_type": "code",
   "execution_count": 6,
   "id": "583de5e2-9852-43e3-8637-b3861621ae26",
   "metadata": {
    "id": "bea983a3"
   },
   "outputs": [
    {
     "name": "stdout",
     "output_type": "stream",
     "text": [
      "The quick brown cat jumps over the lazy cat.\n"
     ]
    }
   ],
   "source": [
    "text = \"The quick brown dog jumps over the lazy dog.\"\r\n",
    "new_text = text.replace(\"dog\", \"cat\")\r\n",
    "print(new_text)\r\n"
   ]
  },
  {
   "cell_type": "code",
   "execution_count": null,
   "id": "2c5aa00f-a73b-4189-b899-7f79b372e6d3",
   "metadata": {
    "id": "bea983a3"
   },
   "outputs": [],
   "source": [
    "--\n",
    "\n",
    "### Exercise 7:\n",
    "Split the string `\"apple,banana,orange\"` by commas and store the result in a list `fruits_list`.\n",
    "\n",
    "```python\n",
    "# Exercise 7\n",
    "```\n",
    "\n",
    "--"
   ]
  },
  {
   "cell_type": "code",
   "execution_count": 7,
   "id": "fcf1ee78-d27d-4803-9162-57045327b72d",
   "metadata": {
    "id": "bea983a3"
   },
   "outputs": [
    {
     "name": "stdout",
     "output_type": "stream",
     "text": [
      "['apple', 'banana', 'orange']\n"
     ]
    }
   ],
   "source": [
    "text = \"apple,banana,orange\"\n",
    "fruits_list = text.split(\",\")\n",
    "print(fruits_list)\n"
   ]
  },
  {
   "cell_type": "code",
   "execution_count": null,
   "id": "88e52eec-bfae-4060-84c2-456635ecf399",
   "metadata": {
    "id": "bea983a3"
   },
   "outputs": [],
   "source": [
    "-\n",
    "\n",
    "### Exercise 8:\n",
    "Use string formatting to create the sentence `\"My name is Alice and I am 25 years old.\"`, where the name and age are variables.\n",
    "\n",
    "```python\n",
    "# Exercise 8\n",
    "```\n",
    "\n",
    "--"
   ]
  },
  {
   "cell_type": "code",
   "execution_count": 5,
   "id": "8fb996ff-49aa-4918-8499-306fc1f1e496",
   "metadata": {
    "id": "bea983a3"
   },
   "outputs": [
    {
     "name": "stdout",
     "output_type": "stream",
     "text": [
      "My name is Alice and I am 25 years old.\n"
     ]
    }
   ],
   "source": [
    "name = \"Alice\"\n",
    "age = 25\n",
    "sentence = f\"My name is {name} and I am {age} years old.\"\n",
    "print(sentence)\n"
   ]
  },
  {
   "cell_type": "code",
   "execution_count": null,
   "id": "365d9e4c-1c50-4b75-ac45-491815fd1c28",
   "metadata": {
    "id": "bea983a3"
   },
   "outputs": [],
   "source": [
    "-\n",
    "\n",
    "### Exercise 9:\n",
    "Check if the string `\"python\"` is present in the sentence `\"I love python programming\"`.\n",
    "\n",
    "```python\n",
    "# Exercise 9\n",
    "```\n",
    "\n",
    "-"
   ]
  },
  {
   "cell_type": "code",
   "execution_count": 8,
   "id": "93b6b35a-169c-4b97-92c6-516e993de276",
   "metadata": {
    "id": "bea983a3"
   },
   "outputs": [
    {
     "name": "stdout",
     "output_type": "stream",
     "text": [
      "True\n"
     ]
    }
   ],
   "source": [
    "sentence = \"I love python programming\"\n",
    "result = \"python\" in sentence\n",
    "print(result)\n"
   ]
  },
  {
   "cell_type": "code",
   "execution_count": null,
   "id": "058e4a1a-ee21-435c-b0c5-49fbd05b2c06",
   "metadata": {
    "id": "bea983a3"
   },
   "outputs": [],
   "source": [
    "--\n",
    "\n",
    "### Exercise 10:\n",
    "Count the number of occurrences of the letter `\"e\"` in the string `\"Elephant is an elegant animal\"`.\n",
    "```python\n",
    "# Exercise 10\n",
    "```\n",
    "\n",
    "-"
   ]
  },
  {
   "cell_type": "code",
   "execution_count": 9,
   "id": "13b16248-065b-4dc3-8205-c6b84f854aaf",
   "metadata": {
    "id": "bea983a3"
   },
   "outputs": [
    {
     "name": "stdout",
     "output_type": "stream",
     "text": [
      "4\n"
     ]
    }
   ],
   "source": [
    "text = \"Elephant is an elegant animal\"\n",
    "count = text.lower().count(\"e\")\n",
    "print(count)\n"
   ]
  },
  {
   "cell_type": "code",
   "execution_count": null,
   "id": "4bba4906-204f-4212-9241-9073208872a5",
   "metadata": {
    "id": "bea983a3"
   },
   "outputs": [],
   "source": [
    "--\n",
    "\n",
    "### Exercise 11:\n",
    "Remove any leading and trailing spaces from the string `\"   Data Science   \"`.\n",
    "\n",
    "```python\n",
    "# Exercise 11\n",
    "```\n",
    "\n",
    "-"
   ]
  },
  {
   "cell_type": "code",
   "execution_count": 4,
   "id": "9e3fd487-2b38-4a5e-8534-fe092332440e",
   "metadata": {
    "id": "bea983a3"
   },
   "outputs": [
    {
     "name": "stdout",
     "output_type": "stream",
     "text": [
      "Data Science\n"
     ]
    }
   ],
   "source": [
    "text = \"   Data Science   \"\n",
    "cleaned = text.strip()\n",
    "print(cleaned)\n"
   ]
  },
  {
   "cell_type": "code",
   "execution_count": null,
   "id": "e587f288-6b0b-429e-afa7-c5a242e13e09",
   "metadata": {
    "id": "bea983a3"
   },
   "outputs": [],
   "source": [
    "--\n",
    "\n",
    "### Exercise 12:\n",
    "Convert the string `\"100\"` into an integer and store it in a variable `int_value`.\n",
    "\n",
    "```python\n",
    "# Exercise 12\n",
    "```\n",
    "\n",
    "--"
   ]
  },
  {
   "cell_type": "code",
   "execution_count": 1,
   "id": "06429217-4eb8-400f-b463-27a67b10c137",
   "metadata": {
    "id": "bea983a3"
   },
   "outputs": [
    {
     "name": "stdout",
     "output_type": "stream",
     "text": [
      "100\n"
     ]
    }
   ],
   "source": [
    "a=\"100\"\n",
    "int_value= int(a)\n",
    "print(int_value)"
   ]
  },
  {
   "cell_type": "markdown",
   "id": "285883ac-c0a0-4f7b-a52d-10b59cd9ecd2",
   "metadata": {
    "id": "bea983a3"
   },
   "source": [
    "-\n",
    "\n",
    "### Exercise 13:\n",
    "Extract the substring `\"pro\"` from the string `\"programming\"`.\n",
    "\n",
    "```python\n",
    "# Exercise 13\n",
    "```\n",
    "\n",
    "--"
   ]
  },
  {
   "cell_type": "code",
   "execution_count": 2,
   "id": "265f5e74-7b07-456e-b5dc-a3f7d448e2b4",
   "metadata": {},
   "outputs": [
    {
     "name": "stdout",
     "output_type": "stream",
     "text": [
      "pro\n"
     ]
    }
   ],
   "source": [
    "text = \"programming\"\n",
    "substring = text[0:3]\n",
    "print(substring)\n"
   ]
  },
  {
   "cell_type": "markdown",
   "id": "bbced8b4-132b-4d3e-91e3-b96ed8196d2a",
   "metadata": {
    "id": "bea983a3"
   },
   "source": [
    "-\n",
    "\n",
    "### Exercise 14:\n",
    "Check if the string `\"data\"` starts with `\"da\"` and ends with `\"ta\"`.\n",
    "\n",
    "```python\n",
    "# Exercise 14\n",
    "```\n",
    "\n",
    "-"
   ]
  },
  {
   "cell_type": "code",
   "execution_count": 3,
   "id": "57478278-1313-4f90-8bca-1888d1aa2bca",
   "metadata": {},
   "outputs": [
    {
     "name": "stdout",
     "output_type": "stream",
     "text": [
      "True True\n"
     ]
    }
   ],
   "source": [
    "text = \"data\"\n",
    "\n",
    "starts = text.startswith(\"da\")\n",
    "ends = text.endswith(\"ta\")\n",
    "\n",
    "print(starts, ends)\n"
   ]
  },
  {
   "cell_type": "markdown",
   "id": "f6f3428f-e3d5-4f8c-a29c-ca7b122d59f6",
   "metadata": {
    "id": "bea983a3"
   },
   "source": [
    "--\n",
    "\n",
    "### Exercise 15:\n",
    "Reverse the string `\"machine learning\"` and store the result in `reversed_text`.\n",
    "\n",
    "```python\n",
    "# Exercise 15\n",
    "```\n",
    "\n",
    "-"
   ]
  },
  {
   "cell_type": "code",
   "execution_count": 10,
   "id": "98ea760a-449e-464d-84d3-712bb74e973b",
   "metadata": {
    "id": "bea983a3"
   },
   "outputs": [
    {
     "name": "stdout",
     "output_type": "stream",
     "text": [
      "gninrael enihcam\n"
     ]
    }
   ],
   "source": [
    "text = \"machine learning\"\n",
    "reversed_text = text[::-1]\n",
    "print(reversed_text)\n"
   ]
  },
  {
   "cell_type": "code",
   "execution_count": null,
   "id": "40fcac7a-7d20-41b1-ab99-d3775c4369b7",
   "metadata": {
    "id": "bea983a3"
   },
   "outputs": [],
   "source": [
    "--\n",
    "\n",
    "### Exercise 16:\n",
    "Convert the first letter of each word in the string `\"machine learning is fun\"` to uppercase.\n",
    "\n",
    "```python\n",
    "# Exercise 16\n",
    "```\n",
    "\n",
    "-"
   ]
  },
  {
   "cell_type": "code",
   "execution_count": null,
   "id": "a4f8fc01-670e-4f11-aa4d-853129da048b",
   "metadata": {
    "id": "bea983a3"
   },
   "outputs": [],
   "source": []
  },
  {
   "cell_type": "code",
   "execution_count": null,
   "id": "1aa610c2-8fcf-4a55-8ddd-b8d60dc3272c",
   "metadata": {
    "id": "bea983a3"
   },
   "outputs": [],
   "source": [
    "--\n",
    "\n",
    "### Exercise 17:\n",
    "Create a multiline string representing a poem and store it in a variable `poem`.\n",
    "\n",
    "```python\n",
    "# Exercise 17\n",
    "```\n",
    "\n",
    "---\n",
    "\n",
    "### Exercise 18:\n",
    "Write a string to a file named `\"output.txt\"`.\n",
    "\n",
    "```python\n",
    "# Exercise 18\n",
    "```\n",
    "\n",
    "---\n",
    "\n",
    "### Exercise 19:\n",
    "Read the contents of a file named `\"data.txt\"` and print it line by line.\n",
    "\n",
    "```python\n",
    "# Exercise 19\n",
    "```\n",
    "\n",
    "-"
   ]
  },
  {
   "cell_type": "code",
   "execution_count": null,
   "id": "1636cc8f-2e28-4870-9256-aa17b8102bc2",
   "metadata": {
    "id": "bea983a3"
   },
   "outputs": [],
   "source": [
    "with open(\"data.txt\", \"r\") as file:\n",
    "    for line in file:\n",
    "        print(line, end=\"\")\n"
   ]
  },
  {
   "cell_type": "code",
   "execution_count": null,
   "id": "a319bc3f-4d9f-4e55-b0f5-9ba5c09e0f68",
   "metadata": {
    "id": "bea983a3"
   },
   "outputs": [],
   "source": [
    "--\n",
    "\n",
    "### Exercise 20:\n",
    "Check if a file `\"example.txt\"` exists before opening it.\n",
    "\n",
    "```python\n",
    "# Exercise 20\n",
    "```"
   ]
  },
  {
   "cell_type": "code",
   "execution_count": null,
   "id": "6c266eae-a30e-4755-8dc1-d48fb6cba7dc",
   "metadata": {
    "id": "bea983a3"
   },
   "outputs": [],
   "source": [
    "import os\n",
    "\n",
    "if os.path.exists(\"example.txt\"):\n",
    "    with open(\"example.txt\", \"r\") as file:\n",
    "        content = file.read()\n",
    "        print(\"File content loaded successfully.\")\n",
    "else:\n",
    "    print(\"File does not exist.\")\n"
   ]
  },
  {
   "cell_type": "code",
   "execution_count": null,
   "id": "9549bd12-ee7a-4cb3-9010-a0d7a4b29f83",
   "metadata": {
    "id": "bea983a3"
   },
   "outputs": [],
   "source": [
    "--\n",
    "\n",
    "### Exercise 21:\n",
    "Append a new line `\"This is a new line\"` to an existing file `\"notes.txt\"`.\n",
    "\n",
    "`"
   ]
  },
  {
   "cell_type": "code",
   "execution_count": null,
   "id": "0641e333-6b5a-4105-968f-ca83d42ef45c",
   "metadata": {
    "id": "bea983a3"
   },
   "outputs": [],
   "source": [
    "# Open the file in append mode\r\n",
    "with open(\"notes.txt\", \"a\") as file:\r\n",
    "    file.write(\"This is a new line\\n\")\r\n"
   ]
  },
  {
   "cell_type": "markdown",
   "id": "3bf2fda6-82c2-4e73-a713-e7e9edca3ab9",
   "metadata": {
    "id": "bea983a3"
   },
   "source": [
    "``python\n",
    "# Exercise 21\n",
    "```\n",
    "\n",
    "---\n",
    "\n",
    "### Exercise 22:\n",
    "Read the contents of a file `\"log.txt\"` and store each line in a list `log_lines`.\n",
    "\n",
    "```python\n",
    "# Exercise 22\n",
    "```\n",
    "\n",
    "-"
   ]
  },
  {
   "cell_type": "markdown",
   "id": "2d08ca25-88e1-4207-bd4a-8bd08f28df1a",
   "metadata": {
    "id": "bea983a3"
   },
   "source": []
  },
  {
   "cell_type": "markdown",
   "id": "0eaa464b-ccf0-43c4-bba3-added7a2ddbf",
   "metadata": {
    "id": "bea983a3"
   },
   "source": [
    "--\n",
    "\n",
    "### Exercise 23:\n",
    "Create a new file `\"report.txt\"` and write the string `\"Data analysis report\"` to it.\n",
    "\n",
    "```python\n",
    "# Exercise 23\n",
    "```\n",
    "\n",
    "-"
   ]
  },
  {
   "cell_type": "markdown",
   "id": "ea2a4472-f620-4285-bbd6-b0c7213ac373",
   "metadata": {
    "id": "bea983a3"
   },
   "source": []
  },
  {
   "cell_type": "markdown",
   "id": "0371bb19-55ef-4a17-a395-b448eea25c49",
   "metadata": {
    "id": "bea983a3"
   },
   "source": [
    "--\n",
    "\n",
    "### Exercise 24:\n",
    "Replace the word `\"error\"` with `\"issue\"` in a file `\"log.txt\"`.\n",
    "\n",
    "```python\n",
    "# Exercise 24\n",
    "```\n",
    "\n",
    "-"
   ]
  },
  {
   "cell_type": "markdown",
   "id": "4e71527c-b498-41e2-89d7-568c42f875fc",
   "metadata": {
    "id": "bea983a3"
   },
   "source": []
  },
  {
   "cell_type": "markdown",
   "id": "50af9580-bd24-42a2-b348-2a35f7a1adc9",
   "metadata": {
    "id": "bea983a3"
   },
   "source": [
    "--\n",
    "\n",
    "### Exercise 25:\n",
    "Count the number of words in a text file `\"document.txt\"`.\n",
    "\n",
    "```python\n",
    "# Exercise 25\n",
    "```\n",
    "\n",
    "--"
   ]
  },
  {
   "cell_type": "markdown",
   "id": "7c2e8410-1f7b-4eaf-af5c-656dd93ff640",
   "metadata": {
    "id": "bea983a3"
   },
   "source": []
  },
  {
   "cell_type": "markdown",
   "id": "f686d96e-2d5c-49fa-9a65-4690fe469b56",
   "metadata": {
    "id": "bea983a3"
   },
   "source": [
    "-\n",
    "\n",
    "### Exercise 26:\n",
    "Write a Python script that reads a file `\"essay.txt\"` and prints the total number of lines, words, and characters.\n",
    "\n",
    "```python\n",
    "# Exercise 26\n",
    "```\n",
    "\n",
    "--"
   ]
  },
  {
   "cell_type": "markdown",
   "id": "fb4aad22-e2d2-4800-a006-58571d08d8fb",
   "metadata": {
    "id": "bea983a3"
   },
   "source": []
  },
  {
   "cell_type": "markdown",
   "id": "687d58f4-4c2b-4bad-8534-141dbff3b88b",
   "metadata": {
    "id": "bea983a3"
   },
   "source": [
    "-\n",
    "\n",
    "### Exercise 27:\n",
    "Copy the contents of one file `\"source.txt\"` to another file `\"destination.txt\"`.\n",
    "\n",
    "```python\n",
    "# Exercise 27\n",
    "```\n",
    "\n",
    "--"
   ]
  },
  {
   "cell_type": "markdown",
   "id": "6c89f9df-8c42-48b8-bf37-0732da9310d6",
   "metadata": {
    "id": "bea983a3"
   },
   "source": []
  },
  {
   "cell_type": "markdown",
   "id": "84d97b62-1c84-4a1b-8076-94dcbfe17c0d",
   "metadata": {
    "id": "bea983a3"
   },
   "source": [
    "-\n",
    "\n",
    "### Exercise 28:\n",
    "Write a Python function that takes a filename as input and returns the number of lines in the file.\n",
    "\n",
    "```python\n",
    "# Exercise 28\n",
    "```\n",
    "\n",
    "--"
   ]
  },
  {
   "cell_type": "markdown",
   "id": "95c7b9f5-b1c3-4ec8-b712-899af0e8750b",
   "metadata": {
    "id": "bea983a3"
   },
   "source": [
    "def count_lines(filename):\r\n",
    "    \"\"\"\r\n",
    "    Returns the number of lines in the given file.\r\n",
    "    \r\n",
    "    :param filename: str, path to the file\r\n",
    "    :return: int, number of lines\r\n",
    "    \"\"\"\r\n",
    "    try:\r\n",
    "        with open(filename, 'r') as file:\r\n",
    "            return sum(1 for _ in file)\r\n",
    "    except FileNotFoundError:\r\n",
    "        print(f\"Error: The file '{filename}' does not exist.\")\r\n",
    "        return 0\r\n",
    "    except Exception as e:\r\n",
    "        print(f\"An unexpected error occurred: {e}\")\r\n",
    "        return 0\r\n"
   ]
  },
  {
   "cell_type": "markdown",
   "id": "db62268e-1423-481e-b2b0-098517491a54",
   "metadata": {
    "id": "bea983a3"
   },
   "source": [
    "-\n",
    "\n",
    "### Exercise 29:\n",
    "Extract all the words from a text file `\"article.txt\"` that contain more than 5 characters.\n",
    "\n",
    "```python\n",
    "# Exercise 29\n",
    "```\n",
    "\n",
    "--"
   ]
  },
  {
   "cell_type": "markdown",
   "id": "0674566e-1e13-4802-b762-0a7cf77399c5",
   "metadata": {
    "id": "bea983a3"
   },
   "source": [
    "### Exercise 30:\n",
    "Convert the contents of a file `\"notes.txt\"` to uppercase and save the result in another file `\"uppercase_notes.txt\"`.\n",
    "\n",
    "```python\n",
    "# Exercise 30\n",
    "```\n",
    "\n",
    "--"
   ]
  },
  {
   "cell_type": "markdown",
   "id": "4e95b3c5-8454-4095-8f01-68867d0795b2",
   "metadata": {
    "id": "bea983a3"
   },
   "source": []
  },
  {
   "cell_type": "markdown",
   "id": "a20a9193-378e-4169-b1dd-05b679a56a0d",
   "metadata": {
    "id": "bea983a3"
   },
   "source": [
    "-\n",
    "\n",
    "### Exercise 31:\n",
    "Write a Python script that reads a file and removes all empty lines.\n",
    "\n",
    "```python\n",
    "# Exercise 31\n",
    "```\n",
    "\n",
    "-"
   ]
  },
  {
   "cell_type": "markdown",
   "id": "74eb2dd8-3b82-46c3-b79c-9d290e36254b",
   "metadata": {
    "id": "bea983a3"
   },
   "source": []
  },
  {
   "cell_type": "markdown",
   "id": "32c76137-3ee2-46de-9d7d-e4e47e949a23",
   "metadata": {
    "id": "bea983a3"
   },
   "source": [
    "--\n",
    "\n",
    "### Exercise 32:\n",
    "Open a file `\"config.txt\"` in both read and write mode.\n",
    "\n",
    "```python\n",
    "# Exercise 32\n",
    "```\n",
    "\n",
    "--"
   ]
  },
  {
   "cell_type": "markdown",
   "id": "c613df26-ed37-4794-a30e-a0d2e9924f37",
   "metadata": {
    "id": "bea983a3"
   },
   "source": []
  },
  {
   "cell_type": "markdown",
   "id": "ed1b6407-110d-4505-b587-b0f04733a2f7",
   "metadata": {
    "id": "bea983a3"
   },
   "source": [
    "-\n",
    "\n",
    "### Exercise 33:\n",
    "Write a Python function that reads a file and prints the longest line in the file.\n",
    "\n",
    "```python\n",
    "# Exercise 33\n",
    "```\n",
    "\n",
    "--"
   ]
  },
  {
   "cell_type": "markdown",
   "id": "584c817e-80a3-4171-9f83-043e6e493fec",
   "metadata": {
    "id": "bea983a3"
   },
   "source": [
    "def print_longest_line(filename):\r\n",
    "    \"\"\"\r\n",
    "    Reads a file and prints the longest line in it.\r\n",
    "    \r\n",
    "    :param filename: str, path to the file\r\n",
    "    \"\"\"\r\n",
    "    try:\r\n",
    "        with open(filename, 'r') as file:\r\n",
    "            longest_line = ''\r\n",
    "            max_length = 0\r\n",
    "            \r\n",
    "            for line in file:\r\n",
    "                line_length = len(line.rstrip('\\n'))  # Ignore newline character\r\n",
    "                if line_length > max_length:\r\n",
    "                    max_length = line_length\r\n",
    "                    longest_line = line.rstrip('\\n')\r\n",
    "        \r\n",
    "        if longest_line:\r\n",
    "            print(f\"Longest line ({max_length} characters):\\n{longest_line}\")\r\n",
    "        else:\r\n",
    "            print(\"The file is empty.\")\r\n",
    "    \r\n",
    "    except FileNotFoundError:\r\n",
    "        print(f\"Error: The file '{filename}' does not exist.\")\r\n",
    "    except Exception as e:\r\n",
    "        print(f\"An unexpected error occurred: {e}\")\r\n",
    "\r\n",
    "\r\n",
    "# Example usage\r\n",
    "print_longest_line(\"log.txt\")\r\n"
   ]
  },
  {
   "cell_type": "markdown",
   "id": "6ec14106-80de-4cce-9a96-1a05d5f93e00",
   "metadata": {
    "id": "bea983a3"
   },
   "source": [
    "-\n",
    "\n",
    "### Exercise 34:\n",
    "Write a Python script to count the frequency of each letter in a text file `\"message.txt\"`.\n",
    "\n",
    "```python\n",
    "# Exercise 34\n",
    "```\n",
    "\n",
    "-"
   ]
  },
  {
   "cell_type": "code",
   "execution_count": null,
   "id": "0e2d6d6c-b4e3-440d-832c-999596238c29",
   "metadata": {},
   "outputs": [],
   "source": []
  },
  {
   "cell_type": "markdown",
   "id": "460a97ab-f8e0-4afe-bcd8-59408f6986dd",
   "metadata": {
    "id": "bea983a3"
   },
   "source": [
    "_--\n",
    "\n",
    "### Exercise 35:\n",
    "Write a Python script that reads a file and prints the total number of characters, excluding spaces.\n",
    "\n",
    "```python\n",
    "# Exercise 35\n",
    "```\n",
    "\n",
    "-"
   ]
  },
  {
   "cell_type": "markdown",
   "id": "c1f30349-1108-4c79-bbb4-bf0552257d26",
   "metadata": {
    "id": "bea983a3"
   },
   "source": [
    "\r\n",
    "file_path = 'your_file.txt'\r\n",
    "\r\n",
    "try:\r\n",
    "    with open(file_path, 'r', encoding='utf-8') as file:\r\n",
    "        content = file.read()\r\n",
    "  unting\r\n",
    "        char_count = len(content.replace(' ', ''))\r\n",
    "    print(f\"Total number of characters (excluding spaces): {char_count}\")\r\n",
    "except FileNotFoundError:\r\n",
    "    print(f\"Error: The file '{file_path}' was not found.\")\r\n",
    "except Exception as e:\r\n",
    "    print(f\"An error occurred: {e}\")\r\n"
   ]
  },
  {
   "cell_type": "markdown",
   "id": "0539ad2d-8d7b-4296-baa4-60b1bfcadc41",
   "metadata": {
    "id": "bea983a3"
   },
   "source": [
    "--\n",
    "\n",
    "### Exercise 36:\n",
    "Create a Python script to check whether a file is empty or not.\n",
    "\n",
    "```python\n",
    "# Exercise 36\n",
    "```\n",
    "\n",
    "-"
   ]
  },
  {
   "cell_type": "markdown",
   "id": "974649a7-d30d-47e8-b4a9-99db0f28eaee",
   "metadata": {
    "id": "bea983a3"
   },
   "source": [
    "\r\n",
    "file_path = 'your_file.txt'\r\n",
    "\r\n",
    "try:\r\n",
    "mode\r\n",
    "    with open(file_path, 'r', encoding='utf-8') as file:\r\n",
    "        content = file.read()\r\n",
    "        if len(content) == 0:\r\n",
    "            print(f\"The file '{file_path}' is empty.\")\r\n",
    "        else:\r\n",
    "            print(f\"The file '{file_path}' is not empty.\")\r\n",
    "except FileNotFoundError:\r\n",
    "    print(f\"Error: The file '{file_path}' does not exist.\")\r\n",
    "except Exception as e:\r\n",
    "    print(f\"An error occurred: {e}\")\r\n"
   ]
  },
  {
   "cell_type": "markdown",
   "id": "2e8705be-22f8-4762-9a00-b7a9a0d13a89",
   "metadata": {
    "id": "bea983a3"
   },
   "source": [
    "--\n",
    "\n",
    "### Exercise 37:\n",
    "Write a Python function that reads a file and removes all punctuation marks from the text.\n",
    "\n",
    "```python\n",
    "# Exercise 37\n",
    "```\n",
    "\n",
    "-"
   ]
  },
  {
   "cell_type": "markdown",
   "id": "be8b0514-ef49-4a23-bd8d-85a8dac49afb",
   "metadata": {
    "id": "bea983a3"
   },
   "source": [
    "_--\n",
    "\n",
    "### Exercise 38:\n",
    "Create a Python function that writes a list of strings to a file, each string on a new line.\n",
    "\n",
    "```python\n",
    "# Exercise 38\n",
    "```\n",
    "\n",
    "-"
   ]
  },
  {
   "cell_type": "markdown",
   "id": "c717dadd-e72b-4e4e-8d1a-1c88a7ff2b4b",
   "metadata": {
    "id": "bea983a3"
   },
   "source": [
    "--\n",
    "\n",
    "### Exercise 39:\n",
    "Write a Python script to count the number of lines that start with a specific letter (e.g., \"A\") in a text file.\n",
    "\n",
    "```python\n",
    "# Exercise 39\n",
    "```\n",
    "\n",
    "--"
   ]
  },
  {
   "cell_type": "markdown",
   "id": "c3f75bb6-c6c5-461f-b2be-6ce77a7701bb",
   "metadata": {
    "id": "bea983a3"
   },
   "source": []
  },
  {
   "cell_type": "markdown",
   "id": "5cb3d1b8-051a-4d22-a3c4-ac84a64eb0fc",
   "metadata": {
    "id": "bea983a3"
   },
   "source": [
    "-\n",
    "\n",
    "### Exercise 40:\n",
    "Write a Python function that takes a string as input and writes it to a file `\"output.txt\"` in reverse order.\n",
    "\n",
    "```python\n",
    "# Exercise 40\n",
    "```\n",
    "\n",
    "--"
   ]
  },
  {
   "cell_type": "markdown",
   "id": "e59ac3ca-8f43-48a5-a751-69fd2e437b09",
   "metadata": {
    "id": "bea983a3"
   },
   "source": [
    "_-\n",
    "\n",
    "### Exercise 41:\n",
    "Write a Python script that reads a file and prints all the lines that contain the word `\"Python\"`.\n",
    "\n",
    "```python\n",
    "# Exercise 41\n",
    "```\n",
    "\n",
    "---\n",
    "\n",
    "### Exercise 42:\n",
    "Write a Python script that opens a file and removes all numeric digits from the file's content.\n",
    "\n",
    "```python\n",
    "# Exercise 42\n",
    "```\n",
    "\n",
    "---\n",
    "\n",
    "### Exercise 43:\n",
    "Write a Python script to find the most frequent word in a text file `\"book.txt\"`.\n",
    "\n",
    "```python\n",
    "# Exercise 43\n",
    "```\n",
    "\n",
    "-"
   ]
  },
  {
   "cell_type": "markdown",
   "id": "84515524-e880-4057-b751-9ae1c19c518c",
   "metadata": {
    "id": "bea983a3"
   },
   "source": []
  },
  {
   "cell_type": "markdown",
   "id": "6f585344-b3e0-4c76-8812-1ee09db75941",
   "metadata": {
    "id": "bea983a3"
   },
   "source": [
    "--\n",
    "\n",
    "### Exercise 44:\n",
    "Write a Python script that reads a file and prints all the lines that contain exactly 5 words.\n",
    "\n",
    "```python\n",
    "# Exercise 44\n",
    "```\n",
    "\n",
    "--"
   ]
  },
  {
   "cell_type": "markdown",
   "id": "b8b54565-5170-4926-9a46-f470c84dcbee",
   "metadata": {
    "id": "bea983a3"
   },
   "source": [
    "_-\n",
    "\n",
    "### Exercise 45:\n",
    "Write a Python script to read a file and print the first and last line of the file.\n",
    "\n",
    "```python\n",
    "# Exercise 45\n",
    "```\n",
    "\n",
    "--"
   ]
  },
  {
   "cell_type": "markdown",
   "id": "b2cdfb48-1e77-4ef8-a20c-d94f20a74379",
   "metadata": {
    "id": "bea983a3"
   },
   "source": []
  },
  {
   "cell_type": "markdown",
   "id": "f7761af0-e37f-4b17-bca3-b89f316ba378",
   "metadata": {
    "id": "bea983a3"
   },
   "source": [
    "-\n",
    "\n",
    "### Exercise 46:\n",
    "Write a Python script that checks if a file `\"students.txt\"` is writable.\n",
    "\n",
    "```python\n",
    "# Exercise 46\n",
    "```"
   ]
  },
  {
   "cell_type": "markdown",
   "id": "8ffc0205-dfe4-466e-a837-023cf1df950d",
   "metadata": {
    "id": "bea983a3"
   },
   "source": [
    "import os\r\n",
    "\r\n",
    "filename = \"students.txt\"\r\n",
    "\r\n",
    "def is_writable(file_path):\r\n",
    "    \"\"\"\r\n",
    "    Checks if the given file is writable.\r\n",
    "    \r\n",
    "    :param file_path: str, path to the file\r\n",
    "    :return: bool, True if writable, False otherwise\r\n",
    "    \"\"\"\r\n",
    "    # Check if the file exists\r\n",
    "    if not os.path.exists(file_path):\r\n",
    "        print(f\"The file '{file_path}' does not exist.\")\r\n",
    "        return False\r\n",
    "    \r\n",
    "    # Check write permission\r\n",
    "    if os.access(file_path, os.W_OK):\r\n",
    "        print(f\"The file '{file_path}' is writable.\")\r\n",
    "        return True\r\n",
    "    else:\r\n",
    "        print(f\"The file '{file_path}' is not writable.\")\r\n",
    "        return False\r\n",
    "\r\n",
    "# Example usage\r\n",
    "is_writable(filename)\r\n"
   ]
  },
  {
   "cell_type": "markdown",
   "id": "989764f9-5a17-48fc-a5ad-ab159d31559f",
   "metadata": {
    "id": "bea983a3"
   },
   "source": [
    "---\n",
    "\n",
    "### Exercise 47:\n",
    "Create a Python function that opens a file and returns the number of unique words in the file.\n",
    "\n",
    "```python\n",
    "# Exercise 47\n",
    "```\n",
    "\n",
    "-"
   ]
  },
  {
   "cell_type": "code",
   "execution_count": null,
   "id": "4baba887-2d70-46aa-b2da-1a291b9b3528",
   "metadata": {},
   "outputs": [],
   "source": []
  },
  {
   "cell_type": "markdown",
   "id": "f89a4187-6fee-4a7e-bc5e-417735215fe5",
   "metadata": {
    "id": "bea983a3"
   },
   "source": [
    "_--\n",
    "\n",
    "### Exercise 48:\n",
    "Write a Python script that reads a file and prints all lines in reverse order.\n",
    "\n",
    "```python\n",
    "# Exercise 48\n",
    "```\n",
    "\n",
    "--"
   ]
  },
  {
   "cell_type": "code",
   "execution_count": null,
   "id": "fdbb2385-32d2-496c-bf81-fc8608b391d5",
   "metadata": {},
   "outputs": [],
   "source": []
  },
  {
   "cell_type": "markdown",
   "id": "d3fd7683-549f-4aa1-8474-23a5b2132a46",
   "metadata": {
    "id": "bea983a3"
   },
   "source": [
    "_-\n",
    "\n",
    "### Exercise 49:\n",
    "Write a Python function that reads a file and returns the most common letter in the text.\n",
    "\n",
    "```python\n",
    "# Exercise 49\n",
    "```\n",
    "\n",
    "--"
   ]
  },
  {
   "cell_type": "markdown",
   "id": "b8202976-29e8-43ed-ab9d-6e5880ab4912",
   "metadata": {
    "id": "bea983a3"
   },
   "source": []
  },
  {
   "cell_type": "markdown",
   "id": "4751b6c4-753e-4da8-b0de-1edb92df092d",
   "metadata": {
    "id": "bea983a3"
   },
   "source": [
    "-\n",
    "\n",
    "### Exercise 50:\n",
    "Write a Python script that reads a file and replaces every occurrence of `\"Python\"` with `\"Java\"`.\n",
    "\n",
    "```python\n",
    "# Exercise 50\n",
    "```\n",
    "\n",
    "---"
   ]
  },
  {
   "cell_type": "code",
   "execution_count": null,
   "id": "dcf6ca38",
   "metadata": {
    "id": "dcf6ca38"
   },
   "outputs": [],
   "source": []
  }
 ],
 "metadata": {
  "colab": {
   "provenance": []
  },
  "kernelspec": {
   "display_name": "Python [conda env:base] *",
   "language": "python",
   "name": "conda-base-py"
  },
  "language_info": {
   "codemirror_mode": {
    "name": "ipython",
    "version": 3
   },
   "file_extension": ".py",
   "mimetype": "text/x-python",
   "name": "python",
   "nbconvert_exporter": "python",
   "pygments_lexer": "ipython3",
   "version": "3.12.4"
  }
 },
 "nbformat": 4,
 "nbformat_minor": 5
}
