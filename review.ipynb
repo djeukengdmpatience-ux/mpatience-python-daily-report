{
 "cells": [
  {
   "cell_type": "code",
   "execution_count": 1,
   "id": "9ae6a095-1fac-4beb-a71a-991f253816ea",
   "metadata": {},
   "outputs": [
    {
     "name": "stdout",
     "output_type": "stream",
     "text": [
      "1.68\n"
     ]
    }
   ],
   "source": [
    "my_name=\"marie patience\"\n",
    "my_age=23\n",
    "my_height= 1.68\n",
    "print(my_height)"
   ]
  },
  {
   "cell_type": "code",
   "execution_count": 2,
   "id": "13c32c9c-8d72-4432-8ba8-0fadd4fd5aaa",
   "metadata": {},
   "outputs": [
    {
     "data": {
      "text/plain": [
       "int"
      ]
     },
     "execution_count": 2,
     "metadata": {},
     "output_type": "execute_result"
    }
   ],
   "source": [
    "type(my_age)"
   ]
  },
  {
   "cell_type": "code",
   "execution_count": 3,
   "id": "1be56a67-214b-469f-9253-5d7b5fd97255",
   "metadata": {},
   "outputs": [
    {
     "name": "stdout",
     "output_type": "stream",
     "text": [
      "my full name is  marie patience DJEUKENG DONGMO\n"
     ]
    }
   ],
   "source": [
    "my_first_name = \" marie patience\"\n",
    "my_last_name=\"DJEUKENG DONGMO\"\n",
    "print(\"my full name is\" , my_first_name+ \" \"+ my_last_name)"
   ]
  },
  {
   "cell_type": "code",
   "execution_count": 4,
   "id": "522b3d32-fe1b-4f8f-b340-8086f6b438ab",
   "metadata": {},
   "outputs": [
    {
     "data": {
      "text/plain": [
       "'23 marie patience'"
      ]
     },
     "execution_count": 4,
     "metadata": {},
     "output_type": "execute_result"
    }
   ],
   "source": [
    "str(my_age)+my_first_name"
   ]
  },
  {
   "cell_type": "code",
   "execution_count": 6,
   "id": "9ecb1b20-33e2-43c8-b708-05580c132bf4",
   "metadata": {},
   "outputs": [
    {
     "data": {
      "text/plain": [
       "'a'"
      ]
     },
     "execution_count": 6,
     "metadata": {},
     "output_type": "execute_result"
    }
   ],
   "source": [
    "my_first_name[2]"
   ]
  },
  {
   "cell_type": "code",
   "execution_count": 8,
   "id": "f93d1163-a1f8-490d-8ae4-783ba8a70abb",
   "metadata": {},
   "outputs": [
    {
     "data": {
      "text/plain": [
       "[23, ' marie patience', 'DJEUKENG DONGMO', 1.68]"
      ]
     },
     "execution_count": 8,
     "metadata": {},
     "output_type": "execute_result"
    }
   ],
   "source": [
    "my_list=[my_age,my_first_name,my_last_name,my_height]\n",
    "my_list"
   ]
  },
  {
   "cell_type": "code",
   "execution_count": 9,
   "id": "2a043847-45cb-422f-a08e-e1000ca4c9e7",
   "metadata": {},
   "outputs": [
    {
     "data": {
      "text/plain": [
       "1.68"
      ]
     },
     "execution_count": 9,
     "metadata": {},
     "output_type": "execute_result"
    }
   ],
   "source": [
    "my_list[3]"
   ]
  },
  {
   "cell_type": "code",
   "execution_count": 10,
   "id": "2e4b9b4d-49f7-4a02-b255-3aeb4639b67a",
   "metadata": {},
   "outputs": [
    {
     "data": {
      "text/plain": [
       "{'a': 23, 'b': 1.68}"
      ]
     },
     "execution_count": 10,
     "metadata": {},
     "output_type": "execute_result"
    }
   ],
   "source": [
    "my_dict={'a': my_age,'b': my_height}\n",
    "my_dict"
   ]
  },
  {
   "cell_type": "code",
   "execution_count": 11,
   "id": "e57c552f-ba2d-4505-805e-18e82eb6c3f8",
   "metadata": {},
   "outputs": [
    {
     "name": "stdout",
     "output_type": "stream",
     "text": [
      "23\n",
      "DJEUKENG DONGMO\n",
      "1.68\n"
     ]
    }
   ],
   "source": [
    "for i in my_list:\n",
    "    if str(i)>=str(0):\n",
    "        print(i)"
   ]
  },
  {
   "cell_type": "code",
   "execution_count": 13,
   "id": "56e58905-8f5b-42c3-aa40-3a1a3ea50913",
   "metadata": {},
   "outputs": [],
   "source": [
    "def square(x):\n",
    "    \"\"\" this function computes the square of a given number\n",
    "    \"\"\"\n",
    "    return x*x"
   ]
  },
  {
   "cell_type": "code",
   "execution_count": 14,
   "id": "38bdecc1-e358-4c5a-9712-d7293f2a042e",
   "metadata": {},
   "outputs": [
    {
     "data": {
      "text/plain": [
       "25"
      ]
     },
     "execution_count": 14,
     "metadata": {},
     "output_type": "execute_result"
    }
   ],
   "source": [
    "square(5)"
   ]
  },
  {
   "cell_type": "code",
   "execution_count": null,
   "id": "6f95f5f5-2b88-4c5b-b308-08fa9c4029af",
   "metadata": {},
   "outputs": [],
   "source": []
  }
 ],
 "metadata": {
  "kernelspec": {
   "display_name": "Python [conda env:base] *",
   "language": "python",
   "name": "conda-base-py"
  },
  "language_info": {
   "codemirror_mode": {
    "name": "ipython",
    "version": 3
   },
   "file_extension": ".py",
   "mimetype": "text/x-python",
   "name": "python",
   "nbconvert_exporter": "python",
   "pygments_lexer": "ipython3",
   "version": "3.12.4"
  }
 },
 "nbformat": 4,
 "nbformat_minor": 5
}
