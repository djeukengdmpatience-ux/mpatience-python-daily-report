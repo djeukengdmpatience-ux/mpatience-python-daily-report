{
 "cells": [
  {
   "cell_type": "markdown",
   "id": "426486dd",
   "metadata": {
    "id": "426486dd"
   },
   "source": [
    "\n",
    "\n",
    "# Practical_1: Variables and Assignments"
   ]
  },
  {
   "cell_type": "markdown",
   "id": "4cac521a",
   "metadata": {
    "id": "9fb19f0d"
   },
   "source": [
    "----\n",
    "\n",
    "### Exercise 1:\n",
    "Declare a variable `x` and assign it the value `10`.\n",
    "\n",
    "```python\n",
    "# Exercise 1\n",
    "```"
   ]
  },
  {
   "cell_type": "code",
   "execution_count": 1,
   "id": "5330b6c8",
   "metadata": {},
   "outputs": [
    {
     "name": "stdout",
     "output_type": "stream",
     "text": [
      "10\n"
     ]
    }
   ],
   "source": [
    "x=10\n",
    "print(x)"
   ]
  },
  {
   "cell_type": "markdown",
   "id": "2940f471",
   "metadata": {
    "id": "9fb19f0d"
   },
   "source": [
    "---\n",
    "\n",
    "### Exercise 2:\n",
    "Assign the value `True` to a variable called `is_valid`.\n",
    "\n",
    "```python\n",
    "# Exercise 2\n",
    "```"
   ]
  },
  {
   "cell_type": "code",
   "execution_count": 3,
   "id": "53851e7d",
   "metadata": {
    "id": "9fb19f0d"
   },
   "outputs": [
    {
     "name": "stdout",
     "output_type": "stream",
     "text": [
      "true\n"
     ]
    }
   ],
   "source": [
    "is_valid = 'true'\n",
    "print(is_valid)"
   ]
  },
  {
   "cell_type": "markdown",
   "id": "b2fbceed",
   "metadata": {
    "id": "9fb19f0d"
   },
   "source": [
    "### Exercise 3:\n",
    "Create a string variable `name` with the value \"Python Programming\".\n",
    "\n",
    "```python\n",
    "# Exercise 3\n",
    "```\n",
    "\n",
    "------"
   ]
  },
  {
   "cell_type": "code",
   "execution_count": 4,
   "id": "39788bda",
   "metadata": {},
   "outputs": [
    {
     "name": "stdout",
     "output_type": "stream",
     "text": [
      " python programming\n"
     ]
    }
   ],
   "source": [
    "name = \" python programming\"\n",
    "print(name)"
   ]
  },
  {
   "cell_type": "markdown",
   "id": "cf362b77",
   "metadata": {
    "id": "9fb19f0d"
   },
   "source": [
    "-\n",
    "\n",
    "### Exercise 4:\n",
    "Assign the result of `5 + 3` to a variable `sum_result`.\n",
    "\n",
    "```python\n",
    "# Exercise 4\n",
    "```\n",
    "\n",
    "--"
   ]
  },
  {
   "cell_type": "code",
   "execution_count": 6,
   "id": "0503d14f",
   "metadata": {},
   "outputs": [
    {
     "name": "stdout",
     "output_type": "stream",
     "text": [
      "11\n"
     ]
    }
   ],
   "source": [
    "sum_result = 5+6\n",
    "print(sum_result)"
   ]
  },
  {
   "cell_type": "markdown",
   "id": "88b8c9e7",
   "metadata": {
    "id": "9fb19f0d"
   },
   "source": [
    "-\n",
    "\n",
    "### Exercise 5:\n",
    "Assign multiple variables in one line: `a = 5`, `b = 10`, `c = 15`.\n",
    "\n",
    "```python\n",
    "# Exercise 5\n",
    "```\n",
    "\n",
    "---"
   ]
  },
  {
   "cell_type": "code",
   "execution_count": 9,
   "id": "f332bb9f",
   "metadata": {},
   "outputs": [
    {
     "name": "stdout",
     "output_type": "stream",
     "text": [
      "5 10 15\n"
     ]
    }
   ],
   "source": [
    "a,b,c = 5,10,15\n",
    "print(a,b,c)"
   ]
  },
  {
   "cell_type": "markdown",
   "id": "2257f3d9",
   "metadata": {
    "id": "9fb19f0d"
   },
   "source": [
    "### Exercise 6:\n",
    "Assign the value of one variable `x` to another variable `y`.\n",
    "\n",
    "```python\n",
    "# Exercise 6\n",
    "```"
   ]
  },
  {
   "cell_type": "code",
   "execution_count": 16,
   "id": "74429e99",
   "metadata": {},
   "outputs": [
    {
     "name": "stdout",
     "output_type": "stream",
     "text": [
      "12\n"
     ]
    }
   ],
   "source": [
    "x,y = 12,23\n",
    "y=x\n",
    "print(y)\n"
   ]
  },
  {
   "cell_type": "markdown",
   "id": "3839e317",
   "metadata": {
    "id": "9fb19f0d"
   },
   "source": [
    "---\n",
    "\n",
    "### Exercise 7:\n",
    "Assign a floating-point number `9.8` to a variable `gravity`.\n",
    "\n",
    "```python\n",
    "# Exercise 7\n",
    "```"
   ]
  },
  {
   "cell_type": "code",
   "execution_count": 15,
   "id": "3014d68d",
   "metadata": {},
   "outputs": [
    {
     "name": "stdout",
     "output_type": "stream",
     "text": [
      "the gravity is 9.8\n"
     ]
    }
   ],
   "source": [
    "gravity= 9.8\n",
    "print('the gravity is', gravity)"
   ]
  },
  {
   "cell_type": "markdown",
   "id": "9daac4a0",
   "metadata": {
    "id": "9fb19f0d"
   },
   "source": [
    "---\n",
    "\n",
    "### Exercise 8:\n",
    "Create a variable `country` and assign it the string value of your favorite country.\n",
    "\n",
    "```python\n",
    "# Exercise 8\n",
    "```\n",
    "\n",
    "--"
   ]
  },
  {
   "cell_type": "code",
   "execution_count": 14,
   "id": "4995a05a",
   "metadata": {},
   "outputs": [
    {
     "name": "stdout",
     "output_type": "stream",
     "text": [
      "my favourite country is britain\n"
     ]
    }
   ],
   "source": [
    "country= 'britain'\n",
    "print('my favourite country is', country)"
   ]
  },
  {
   "cell_type": "markdown",
   "id": "6f104b4b",
   "metadata": {
    "id": "9fb19f0d"
   },
   "source": [
    "-\n",
    "\n",
    "### Exercise 9:\n",
    "Change the value of variable `age` from `25` to `26` in two separate steps.\n",
    "\n",
    "```python\n",
    "# Exercise 9\n",
    "```"
   ]
  },
  {
   "cell_type": "code",
   "execution_count": 11,
   "id": "ea7d85c0",
   "metadata": {},
   "outputs": [
    {
     "name": "stdout",
     "output_type": "stream",
     "text": [
      "26\n"
     ]
    }
   ],
   "source": [
    "age= 25\n",
    "age= 26\n",
    "print(age)\n",
    "    "
   ]
  },
  {
   "cell_type": "markdown",
   "id": "a684137f",
   "metadata": {
    "id": "9fb19f0d"
   },
   "source": [
    "---\n",
    "\n",
    "### Exercise 10:\n",
    "Use one variable to store the result of subtracting two numbers `20 - 7`.\n",
    "\n",
    "```python\n",
    "# Exercise 10\n",
    "```"
   ]
  },
  {
   "cell_type": "code",
   "execution_count": 10,
   "id": "2e3dacf3",
   "metadata": {},
   "outputs": [
    {
     "name": "stdout",
     "output_type": "stream",
     "text": [
      "13\n"
     ]
    }
   ],
   "source": [
    "result_sub = 20-7\n",
    "print(result_sub)"
   ]
  },
  {
   "cell_type": "markdown",
   "id": "cf8b5536",
   "metadata": {
    "id": "9fb19f0d"
   },
   "source": [
    "---\n",
    "\n",
    "### Exercise 11:\n",
    "Assign an integer value and a floating-point value to two different variables.\n",
    "\n",
    "```python\n",
    "# Exercise 11\n",
    "```\n",
    "\n",
    "-"
   ]
  },
  {
   "cell_type": "code",
   "execution_count": 17,
   "id": "06edcd5a",
   "metadata": {},
   "outputs": [
    {
     "name": "stdout",
     "output_type": "stream",
     "text": [
      "12 13.6\n"
     ]
    }
   ],
   "source": [
    "a,b= 12, 13.6\n",
    "print(a,b)"
   ]
  },
  {
   "cell_type": "markdown",
   "id": "4a00c46c",
   "metadata": {
    "id": "9fb19f0d"
   },
   "source": [
    "--\n",
    "\n",
    "### Exercise 12:\n",
    "Assign a boolean value `False` to a variable `is_completed`.\n",
    "\n",
    "```python\n",
    "# Exercise 12\n",
    "```\n",
    "\n",
    "--"
   ]
  },
  {
   "cell_type": "code",
   "execution_count": 18,
   "id": "e41bb92f",
   "metadata": {},
   "outputs": [
    {
     "name": "stdout",
     "output_type": "stream",
     "text": [
      "false\n"
     ]
    }
   ],
   "source": [
    "is_completed= 'false'\n",
    "print(is_completed)"
   ]
  },
  {
   "cell_type": "markdown",
   "id": "467f1c66",
   "metadata": {
    "id": "9fb19f0d"
   },
   "source": [
    "-\n",
    "\n",
    "### Exercise 13:\n",
    "Swap the values of two variables `x` and `y`.\n",
    "\n",
    "```python\n",
    "# Exercise 13\n",
    "```"
   ]
  },
  {
   "cell_type": "code",
   "execution_count": 19,
   "id": "49fb45db",
   "metadata": {},
   "outputs": [
    {
     "name": "stdout",
     "output_type": "stream",
     "text": [
      "13 11\n"
     ]
    }
   ],
   "source": [
    "x,y=11,13\n",
    "z=y\n",
    "y=x\n",
    "x=z\n",
    "print(x,y)"
   ]
  },
  {
   "cell_type": "markdown",
   "id": "3e8643c9",
   "metadata": {
    "id": "9fb19f0d"
   },
   "source": [
    "---\n",
    "\n",
    "### Exercise 14:\n",
    "Assign a complex number `3 + 4j` to a variable `complex_num`.\n",
    "\n",
    "```python\n",
    "# Exercise 14\n",
    "```\n",
    "\n",
    "--"
   ]
  },
  {
   "cell_type": "code",
   "execution_count": 20,
   "id": "314254c1",
   "metadata": {},
   "outputs": [
    {
     "name": "stdout",
     "output_type": "stream",
     "text": [
      "3+4j\n"
     ]
    }
   ],
   "source": [
    "complex_number= '3+4j'\n",
    "print(complex_number)"
   ]
  },
  {
   "cell_type": "markdown",
   "id": "58901c8c",
   "metadata": {
    "id": "9fb19f0d"
   },
   "source": [
    "-\n",
    "\n",
    "### Exercise 15:\n",
    "Reassign a variable from an integer to a string.\n",
    "\n",
    "```python\n",
    "# Exercise 15\n",
    "```\n",
    "\n",
    "--"
   ]
  },
  {
   "cell_type": "code",
   "execution_count": 21,
   "id": "46e19fdb",
   "metadata": {},
   "outputs": [
    {
     "name": "stdout",
     "output_type": "stream",
     "text": [
      "my name\n"
     ]
    }
   ],
   "source": [
    "x=12\n",
    "x='my name'\n",
    "print(x)"
   ]
  },
  {
   "cell_type": "markdown",
   "id": "ed8d5713",
   "metadata": {
    "id": "9fb19f0d"
   },
   "source": [
    "-\n",
    "\n",
    "### Exercise 16:\n",
    "Create two variables `first_name` and `last_name`, and assign them your first and last names.\n",
    "\n",
    "```python\n",
    "# Exercise 16\n",
    "```\n",
    "\n",
    "---"
   ]
  },
  {
   "cell_type": "markdown",
   "id": "1741be79",
   "metadata": {
    "id": "9fb19f0d"
   },
   "source": [
    "### Exercise 17:\n",
    "Create a variable `temperature` and assign it the value of `35.5`.\n",
    "\n",
    "```python\n",
    "# Exercise 17\n",
    "```\n",
    "\n",
    "--"
   ]
  },
  {
   "cell_type": "code",
   "execution_count": 22,
   "id": "15b7ed6c",
   "metadata": {},
   "outputs": [
    {
     "name": "stdout",
     "output_type": "stream",
     "text": [
      "35.5\n"
     ]
    }
   ],
   "source": [
    "temperature= 35.5\n",
    "print(temperature)"
   ]
  },
  {
   "cell_type": "markdown",
   "id": "cd841b68",
   "metadata": {
    "id": "9fb19f0d"
   },
   "source": [
    "-\n",
    "\n",
    "### Exercise 18:\n",
    "Assign the result of the multiplication of two numbers `8 * 6` to a variable `product`.\n",
    "\n",
    "```python\n",
    "# Exercise 18\n",
    "```\n",
    "\n",
    "---"
   ]
  },
  {
   "cell_type": "code",
   "execution_count": 23,
   "id": "306f1d13",
   "metadata": {},
   "outputs": [
    {
     "name": "stdout",
     "output_type": "stream",
     "text": [
      "48\n"
     ]
    }
   ],
   "source": [
    "product= 8*6\n",
    "print(product)"
   ]
  },
  {
   "cell_type": "markdown",
   "id": "6f1f04e2",
   "metadata": {
    "id": "9fb19f0d"
   },
   "source": [
    "### Exercise 19:\n",
    "Assign a sentence of your choice to a variable `sentence`.\n",
    "\n",
    "```python\n",
    "# Exercise 19\n",
    "```\n",
    "\n",
    "--"
   ]
  },
  {
   "cell_type": "code",
   "execution_count": 25,
   "id": "c34678cb",
   "metadata": {},
   "outputs": [
    {
     "name": "stdout",
     "output_type": "stream",
     "text": [
      "my name is marie patience\n"
     ]
    }
   ],
   "source": [
    "sentence='my name is marie patience'\n",
    "print(sentence)"
   ]
  },
  {
   "cell_type": "markdown",
   "id": "c5b59c20",
   "metadata": {
    "id": "9fb19f0d"
   },
   "source": [
    "-\n",
    "\n",
    "### Exercise 20:\n",
    "Use an assignment to convert a string `'50'` into an integer variable `int_value`.\n",
    "\n",
    "```python\n",
    "# Exercise 20\n",
    "```\n",
    "\n",
    "---"
   ]
  },
  {
   "cell_type": "code",
   "execution_count": null,
   "id": "7d009cf7",
   "metadata": {},
   "outputs": [],
   "source": []
  },
  {
   "cell_type": "markdown",
   "id": "45c911dd",
   "metadata": {
    "id": "9fb19f0d"
   },
   "source": [
    "### Exercise 21:\n",
    "Assign the result of dividing `144` by `12` to a variable `quotient`.\n",
    "\n",
    "```python\n",
    "# Exercise 21\n",
    "```\n",
    "\n",
    "-"
   ]
  },
  {
   "cell_type": "code",
   "execution_count": 26,
   "id": "84631619",
   "metadata": {},
   "outputs": [
    {
     "name": "stdout",
     "output_type": "stream",
     "text": [
      "24.0\n"
     ]
    }
   ],
   "source": [
    "quotient = 144/6\n",
    "print(quotient)"
   ]
  },
  {
   "cell_type": "markdown",
   "id": "5cb38a68",
   "metadata": {
    "id": "9fb19f0d"
   },
   "source": [
    "--\n",
    "\n",
    "### Exercise 22:\n",
    "Assign the remainder of `47 divided by 5` to a variable `remainder`.\n",
    "\n",
    "```python\n",
    "# Exercise 22\n",
    "```\n",
    "\n",
    "---"
   ]
  },
  {
   "cell_type": "code",
   "execution_count": 27,
   "id": "a461fa7c",
   "metadata": {},
   "outputs": [
    {
     "name": "stdout",
     "output_type": "stream",
     "text": [
      "2\n"
     ]
    }
   ],
   "source": [
    "remainder= 47%5\n",
    "print(remainder)"
   ]
  },
  {
   "cell_type": "markdown",
   "id": "9caea4df",
   "metadata": {
    "id": "9fb19f0d"
   },
   "source": [
    "### Exercise 23:\n",
    "Create a variable `is_student` and assign it the value `True`.\n",
    "\n",
    "```python\n",
    "# Exercise 23\n",
    "```\n",
    "\n",
    "--"
   ]
  },
  {
   "cell_type": "code",
   "execution_count": 28,
   "id": "e6f685db",
   "metadata": {},
   "outputs": [
    {
     "name": "stdout",
     "output_type": "stream",
     "text": [
      "true\n"
     ]
    }
   ],
   "source": [
    "is_student='true'\n",
    "print(is_student)"
   ]
  },
  {
   "cell_type": "markdown",
   "id": "ae4aa6ce",
   "metadata": {
    "id": "9fb19f0d"
   },
   "source": [
    "-\n",
    "\n",
    "### Exercise 24:\n",
    "Use a variable to store the result of a modulo operation: `45 % 4`.\n",
    "\n",
    "```python\n",
    "# Exercise 24\n",
    "```\n",
    "\n",
    "--"
   ]
  },
  {
   "cell_type": "code",
   "execution_count": 29,
   "id": "c73cfbe4",
   "metadata": {},
   "outputs": [
    {
     "name": "stdout",
     "output_type": "stream",
     "text": [
      "1\n"
     ]
    }
   ],
   "source": [
    "reminder= 45%4\n",
    "print(reminder)"
   ]
  },
  {
   "cell_type": "markdown",
   "id": "c2bf099a",
   "metadata": {
    "id": "9fb19f0d"
   },
   "source": [
    "-\n",
    "\n",
    "### Exercise 25:\n",
    "Create a variable `pi` and assign it the value `3.14159`.\n",
    "\n",
    "```python\n",
    "# Exercise 25\n",
    "```\n",
    "\n",
    "---"
   ]
  },
  {
   "cell_type": "code",
   "execution_count": 30,
   "id": "3df66047",
   "metadata": {},
   "outputs": [
    {
     "name": "stdout",
     "output_type": "stream",
     "text": [
      "3.14\n"
     ]
    }
   ],
   "source": [
    "pi=3.14\n",
    "print(pi)"
   ]
  },
  {
   "cell_type": "markdown",
   "id": "acdd7305",
   "metadata": {
    "id": "9fb19f0d"
   },
   "source": [
    "### Exercise 26:\n",
    "Create two variables `length` and `width`, assign them values, and calculate the area of a rectangle.\n",
    "\n",
    "```python\n",
    "# Exercise 26\n",
    "```\n",
    "\n",
    "--"
   ]
  },
  {
   "cell_type": "code",
   "execution_count": 31,
   "id": "eb1813f1",
   "metadata": {
    "id": "9fb19f0d"
   },
   "outputs": [
    {
     "name": "stdout",
     "output_type": "stream",
     "text": [
      "276\n"
     ]
    }
   ],
   "source": [
    "lenght= 12\n",
    "width= 23\n",
    "area= lenght*width\n",
    "print(area)\n",
    "    "
   ]
  },
  {
   "cell_type": "markdown",
   "id": "1ae1f8f9",
   "metadata": {
    "id": "9fb19f0d"
   },
   "source": [
    "### Exercise 27:\n",
    "Assign a negative number to a variable `negative_value`.\n",
    "\n",
    "```python\n",
    "# Exercise 27\n",
    "```\n",
    "\n",
    "--"
   ]
  },
  {
   "cell_type": "code",
   "execution_count": 32,
   "id": "1f2de533",
   "metadata": {},
   "outputs": [
    {
     "name": "stdout",
     "output_type": "stream",
     "text": [
      "-9\n"
     ]
    }
   ],
   "source": [
    "negative_value= -9\n",
    "print(negative_value)"
   ]
  },
  {
   "cell_type": "markdown",
   "id": "13ebd9a8",
   "metadata": {
    "id": "9fb19f0d"
   },
   "source": [
    "-\n",
    "\n",
    "### Exercise 28:\n",
    "Assign a string containing a special character (e.g., \"Hello, World!\") to a variable `greeting`.\n",
    "\n",
    "```python\n",
    "# Exercise 28\n",
    "```\n",
    "\n",
    "--"
   ]
  },
  {
   "cell_type": "code",
   "execution_count": 33,
   "id": "e73596e1",
   "metadata": {},
   "outputs": [
    {
     "name": "stdout",
     "output_type": "stream",
     "text": [
      "hello, world\n"
     ]
    }
   ],
   "source": [
    "greeting='hello, world'\n",
    "print(greeting)"
   ]
  },
  {
   "cell_type": "markdown",
   "id": "223e72c1",
   "metadata": {
    "id": "9fb19f0d"
   },
   "source": [
    "-\n",
    "\n",
    "### Exercise 29:\n",
    "Create a variable `population` and assign it a large integer value (in billions).\n",
    "\n",
    "```python\n",
    "# Exercise 29\n",
    "```\n",
    "\n",
    "-"
   ]
  },
  {
   "cell_type": "code",
   "execution_count": 34,
   "id": "40385872",
   "metadata": {},
   "outputs": [
    {
     "name": "stdout",
     "output_type": "stream",
     "text": [
      "8.6\n"
     ]
    }
   ],
   "source": [
    "population= 8.6 \n",
    "print(population)"
   ]
  },
  {
   "cell_type": "markdown",
   "id": "d913581c",
   "metadata": {
    "id": "9fb19f0d"
   },
   "source": [
    "--\n",
    "\n",
    "### Exercise 30:\n",
    "Use a variable to store the result of raising `2` to the power of `8`.\n",
    "\n",
    "```python\n",
    "# Exercise 30\n",
    "```\n",
    "\n",
    "--"
   ]
  },
  {
   "cell_type": "code",
   "execution_count": 35,
   "id": "1dbb0a90",
   "metadata": {},
   "outputs": [
    {
     "name": "stdout",
     "output_type": "stream",
     "text": [
      "256\n"
     ]
    }
   ],
   "source": [
    "power= 2**8\n",
    "print(power)"
   ]
  },
  {
   "cell_type": "markdown",
   "id": "cc257eeb",
   "metadata": {
    "id": "9fb19f0d"
   },
   "source": [
    "-\n",
    "\n",
    "### Exercise 31:\n",
    "Assign a list of your favorite fruits to a variable `fruits`.\n",
    "\n",
    "```python\n",
    "# Exercise 31\n",
    "```\n",
    "\n",
    "--"
   ]
  },
  {
   "cell_type": "code",
   "execution_count": 37,
   "id": "ca4200bf",
   "metadata": {},
   "outputs": [
    {
     "name": "stdout",
     "output_type": "stream",
     "text": [
      "list['apple', 'banana', 'pineaple']\n"
     ]
    }
   ],
   "source": [
    "fruits=list['apple','banana','pineaple']\n",
    "print(fruits)"
   ]
  },
  {
   "cell_type": "markdown",
   "id": "85104574",
   "metadata": {
    "id": "9fb19f0d"
   },
   "source": [
    "-\n",
    "\n",
    "### Exercise 32:\n",
    "Assign a tuple of three numbers to a variable `coordinates`.\n",
    "\n",
    "```python\n",
    "# Exercise 32\n",
    "```\n",
    "\n",
    "--"
   ]
  },
  {
   "cell_type": "code",
   "execution_count": null,
   "id": "c31abd16",
   "metadata": {},
   "outputs": [],
   "source": []
  },
  {
   "cell_type": "markdown",
   "id": "a71bf322",
   "metadata": {
    "id": "9fb19f0d"
   },
   "source": [
    "-\n",
    "\n",
    "### Exercise 33:\n",
    "Assign a dictionary with keys `name` and `age` to a variable `person`.\n",
    "\n",
    "```python\n",
    "# Exercise 33\n",
    "```\n",
    "\n",
    "--"
   ]
  },
  {
   "cell_type": "code",
   "execution_count": 43,
   "id": "c863d5fe",
   "metadata": {},
   "outputs": [
    {
     "name": "stdout",
     "output_type": "stream",
     "text": [
      "{'name': 'marie', 'age': 23}\n"
     ]
    }
   ],
   "source": [
    "person= {'name':'marie', 'age':23}\n",
    "print(person)"
   ]
  },
  {
   "cell_type": "code",
   "execution_count": null,
   "id": "d64fe8b2",
   "metadata": {
    "id": "9fb19f0d"
   },
   "outputs": [],
   "source": [
    "-\n",
    "\n",
    "### Exercise 34:\n",
    "Use variables to store the sum of two floating-point numbers.\n",
    "\n",
    "```python\n",
    "# Exercise 34\n",
    "```\n",
    "\n",
    "--"
   ]
  },
  {
   "cell_type": "code",
   "execution_count": 44,
   "id": "fd6ff1e3",
   "metadata": {},
   "outputs": [
    {
     "name": "stdout",
     "output_type": "stream",
     "text": [
      "58.2\n"
     ]
    }
   ],
   "source": [
    "somme= 12.5+45.7\n",
    "print(somme)"
   ]
  },
  {
   "cell_type": "markdown",
   "id": "18495059",
   "metadata": {
    "id": "9fb19f0d"
   },
   "source": [
    "-\n",
    "\n",
    "### Exercise 35:\n",
    "Create a variable `is_sunny` and assign it the result of a comparison `10 > 5`.\n",
    "\n",
    "```python\n",
    "# Exercise 35\n",
    "```\n",
    "\n",
    "--"
   ]
  },
  {
   "cell_type": "code",
   "execution_count": 46,
   "id": "13ec8e8c",
   "metadata": {},
   "outputs": [
    {
     "name": "stdout",
     "output_type": "stream",
     "text": [
      "True\n"
     ]
    }
   ],
   "source": [
    "is_sunny= 10>5\n",
    "print(is_sunny)"
   ]
  },
  {
   "cell_type": "markdown",
   "id": "05536e1c",
   "metadata": {
    "id": "9fb19f0d"
   },
   "source": [
    "-\n",
    "\n",
    "### Exercise 36:\n",
    "Assign a string and an integer to two different variables, then print both on one line.\n",
    "\n",
    "```python\n",
    "# Exercise 36\n",
    "```\n",
    "\n",
    "---"
   ]
  },
  {
   "cell_type": "code",
   "execution_count": 47,
   "id": "9dd94b90",
   "metadata": {},
   "outputs": [
    {
     "name": "stdout",
     "output_type": "stream",
     "text": [
      "13  je suis marie\n"
     ]
    }
   ],
   "source": [
    "var1=13\n",
    "var2= ' je suis marie'\n",
    "print(var1,var2)"
   ]
  },
  {
   "cell_type": "markdown",
   "id": "9d3b34d8",
   "metadata": {
    "id": "9fb19f0d"
   },
   "source": [
    "### Exercise 37:\n",
    "Reassign a variable that originally held a number to a boolean value.\n",
    "\n",
    "```python\n",
    "# Exercise 37\n",
    "```\n",
    "\n",
    "--"
   ]
  },
  {
   "cell_type": "code",
   "execution_count": null,
   "id": "35fc42f8",
   "metadata": {},
   "outputs": [],
   "source": [
    "var= 23\n",
    "var"
   ]
  },
  {
   "cell_type": "markdown",
   "id": "02768f4e",
   "metadata": {
    "id": "9fb19f0d"
   },
   "source": [
    "-\n",
    "\n",
    "### Exercise 38:\n",
    "Create a variable `is_weekend` and assign it the result of `False`.\n",
    "\n",
    "```python\n",
    "# Exercise 38\n",
    "```\n",
    "\n",
    "--"
   ]
  },
  {
   "cell_type": "code",
   "execution_count": 48,
   "id": "383a35b3",
   "metadata": {},
   "outputs": [
    {
     "name": "stdout",
     "output_type": "stream",
     "text": [
      "false\n"
     ]
    }
   ],
   "source": [
    "is_weekend='false'\n",
    "print(is_weekend)"
   ]
  },
  {
   "cell_type": "markdown",
   "id": "0aaf5344",
   "metadata": {
    "id": "9fb19f0d"
   },
   "source": [
    "-\n",
    "\n",
    "### Exercise 39:\n",
    "Assign a multi-line string to a variable `description`.\n",
    "\n",
    "```python\n",
    "# Exercise 39\n",
    "```\n",
    "\n",
    "--"
   ]
  },
  {
   "cell_type": "code",
   "execution_count": null,
   "id": "1ff0faed",
   "metadata": {},
   "outputs": [],
   "source": [
    "description=\"\"\"hiiujj\n",
    "\"\"\""
   ]
  },
  {
   "cell_type": "markdown",
   "id": "38372310",
   "metadata": {
    "id": "9fb19f0d"
   },
   "source": [
    "-\n",
    "\n",
    "### Exercise 40:\n",
    "Use variables to store the result of the absolute value of `-25`.\n",
    "\n",
    "```python\n",
    "# Exercise 40\n",
    "```\n",
    "\n",
    "-"
   ]
  },
  {
   "cell_type": "code",
   "execution_count": 49,
   "id": "5631bccd",
   "metadata": {},
   "outputs": [
    {
     "name": "stdout",
     "output_type": "stream",
     "text": [
      "25\n"
     ]
    }
   ],
   "source": [
    "x=abs(-25)\n",
    "print(x)"
   ]
  },
  {
   "cell_type": "markdown",
   "id": "3c7e8fd3",
   "metadata": {
    "id": "9fb19f0d"
   },
   "source": [
    "--\n",
    "\n",
    "### Exercise 41:\n",
    "Assign the result of a floor division `100 // 6` to a variable `floor_div_result`.\n",
    "\n",
    "```python\n",
    "# Exercise 41\n",
    "```\n",
    "\n",
    "--"
   ]
  },
  {
   "cell_type": "code",
   "execution_count": 50,
   "id": "bcb42f4e",
   "metadata": {},
   "outputs": [
    {
     "name": "stdout",
     "output_type": "stream",
     "text": [
      "16\n"
     ]
    }
   ],
   "source": [
    "floor_div_result= 100//6\n",
    "print(floor_div_result)"
   ]
  },
  {
   "cell_type": "markdown",
   "id": "b3e2826b",
   "metadata": {
    "id": "9fb19f0d"
   },
   "source": [
    "-\n",
    "\n",
    "### Exercise 42:\n",
    "Assign the result of adding a floating-point number to an integer to a variable `mixed_sum`.\n",
    "\n",
    "```python\n",
    "# Exercise 42\n",
    "```\n",
    "\n",
    "-"
   ]
  },
  {
   "cell_type": "code",
   "execution_count": 51,
   "id": "287ecc03",
   "metadata": {
    "id": "9fb19f0d"
   },
   "outputs": [
    {
     "name": "stdout",
     "output_type": "stream",
     "text": [
      "30.6\n"
     ]
    }
   ],
   "source": [
    "mixed_sum= 23.6+7\n",
    "print(mixed_sum)"
   ]
  },
  {
   "cell_type": "markdown",
   "id": "95b4c43c",
   "metadata": {
    "id": "9fb19f0d"
   },
   "source": [
    "-\n",
    "\n",
    "\n",
    "### Exercise 43:\n",
    "Assign a boolean value based on the comparison of two variables `a = 10` and `b = 15`.\n",
    "\n",
    "```python\n",
    "# Exercise 43\n",
    "```\n",
    "\n",
    "--"
   ]
  },
  {
   "cell_type": "code",
   "execution_count": 53,
   "id": "7dc98b67",
   "metadata": {},
   "outputs": [
    {
     "name": "stdout",
     "output_type": "stream",
     "text": [
      "True\n"
     ]
    }
   ],
   "source": [
    "a,b= 10,15\n",
    "c=b>a\n",
    "print(c)"
   ]
  },
  {
   "cell_type": "markdown",
   "id": "eb47fdaa",
   "metadata": {
    "id": "9fb19f0d"
   },
   "source": [
    "-\n",
    "\n",
    "### Exercise 44:\n",
    "Assign a long sentence to a variable and count its characters using `len()`.\n",
    "\n",
    "```python\n",
    "# Exercise 44\n",
    "```\n",
    "\n",
    "-"
   ]
  },
  {
   "cell_type": "code",
   "execution_count": 61,
   "id": "82573d3e",
   "metadata": {},
   "outputs": [
    {
     "name": "stdout",
     "output_type": "stream",
     "text": [
      "22\n"
     ]
    }
   ],
   "source": [
    "var = \"i am working right now\"\n",
    "print(len(var))"
   ]
  },
  {
   "cell_type": "markdown",
   "id": "e07ca98c",
   "metadata": {
    "id": "9fb19f0d"
   },
   "source": [
    "--\n",
    "\n",
    "### Exercise 45:\n",
    "Assign a fractional result `7 / 3` to a variable `division_result`.\n",
    "\n",
    "```python\n",
    "# Exercise 45\n",
    "```\n",
    "\n",
    "-"
   ]
  },
  {
   "cell_type": "code",
   "execution_count": 62,
   "id": "6ed9900e",
   "metadata": {},
   "outputs": [
    {
     "name": "stdout",
     "output_type": "stream",
     "text": [
      "2.3333333333333335\n"
     ]
    }
   ],
   "source": [
    "division_result= 7/3\n",
    "print(division_result)"
   ]
  },
  {
   "cell_type": "markdown",
   "id": "da3a14a0",
   "metadata": {
    "id": "9fb19f0d"
   },
   "source": [
    "--\n",
    "\n",
    "### Exercise 46:\n",
    "Create a variable `speed` and assign it the value of 100 kilometers per hour.\n",
    "\n",
    "```python\n",
    "# Exercise 46\n",
    "```\n",
    "\n",
    "--"
   ]
  },
  {
   "cell_type": "code",
   "execution_count": 64,
   "id": "25186d80",
   "metadata": {},
   "outputs": [
    {
     "name": "stdout",
     "output_type": "stream",
     "text": [
      "100 km/h\n"
     ]
    }
   ],
   "source": [
    "speed= 100\n",
    "print(speed,'km/h')"
   ]
  },
  {
   "cell_type": "markdown",
   "id": "f6ad2b75",
   "metadata": {
    "id": "9fb19f0d"
   },
   "source": [
    "-\n",
    "\n",
    "### Exercise 47:\n",
    "Assign a multi-variable equation like `y = 3x + 5` where `x = 4` to a variable `y`.\n",
    "\n",
    "```python\n",
    "# Exercise 47\n",
    "```\n",
    "\n",
    "--"
   ]
  },
  {
   "cell_type": "code",
   "execution_count": 65,
   "id": "aca6eb4c",
   "metadata": {},
   "outputs": [
    {
     "name": "stdout",
     "output_type": "stream",
     "text": [
      "16\n"
     ]
    }
   ],
   "source": [
    "x=4\n",
    "y=3*x+4\n",
    "print(y)"
   ]
  },
  {
   "cell_type": "code",
   "execution_count": null,
   "id": "576b3cc2",
   "metadata": {},
   "outputs": [],
   "source": []
  },
  {
   "cell_type": "markdown",
   "id": "9fb19f0d",
   "metadata": {
    "id": "9fb19f0d"
   },
   "source": [
    "-\n",
    "\n",
    "### Exercise 48:\n",
    "Use variables to calculate and store the average of three numbers.\n",
    "\n",
    "```python\n",
    "# Exercise 48\n",
    "```\n",
    "\n",
    "****"
   ]
  },
  {
   "cell_type": "code",
   "execution_count": 66,
   "id": "2303a82e",
   "metadata": {},
   "outputs": [
    {
     "name": "stdout",
     "output_type": "stream",
     "text": [
      "average :  2.0\n"
     ]
    }
   ],
   "source": [
    "average=(1+2+3)/3\n",
    "print(\"average : \" , average)"
   ]
  },
  {
   "cell_type": "code",
   "execution_count": null,
   "id": "013eff92",
   "metadata": {},
   "outputs": [],
   "source": []
  }
 ],
 "metadata": {
  "colab": {
   "provenance": []
  },
  "kernelspec": {
   "display_name": "Python 3 (ipykernel)",
   "language": "python",
   "name": "python3"
  },
  "language_info": {
   "codemirror_mode": {
    "name": "ipython",
    "version": 3
   },
   "file_extension": ".py",
   "mimetype": "text/x-python",
   "name": "python",
   "nbconvert_exporter": "python",
   "pygments_lexer": "ipython3",
   "version": "3.10.12"
  }
 },
 "nbformat": 4,
 "nbformat_minor": 5
}
